{
 "cells": [
  {
   "cell_type": "code",
   "execution_count": 1,
   "metadata": {
    "collapsed": true
   },
   "outputs": [],
   "source": [
    "import os\n",
    "import shutil\n",
    "# import pydicom\n",
    "import pandas as pd\n",
    "import SimpleITK as sitk\n",
    "import re\n",
    "\n",
    "\n",
    "\n",
    "def DicomHeadInforExtraction(DicomFilePath,InformationNeed,OutputRoot=None,SerPredictionModel=None,SerPreResultExplainDict=None):\n",
    "    ResultDict={}\n",
    "    NeedCheck=[]\n",
    "    n=0\n",
    "    for root,dirs,files in os.walk(DicomFilePath,topdown=False):\n",
    "        if files!=[]:\n",
    "#             for f in files:\n",
    "#                 if 'dcm' not in f:\n",
    "#                     FilePathRaw=os.path.join(root,f)\n",
    "#                     FilePathUse=os.path.join(root,f+'.dcm')\n",
    "#                     shutil.move(FilePathRaw,FilePathUse)\n",
    "            series_IDs = sitk.ImageSeriesReader.GetGDCMSeriesIDs(root)\n",
    "#             print series_IDs\n",
    "            if series_IDs!=None:\n",
    "                for s in series_IDs:\n",
    "#                     print s\n",
    "                    series_file_names = sitk.ImageSeriesReader.GetGDCMSeriesFileNames(root, s)\n",
    "#                     print series_file_names\n",
    "                    ImageFile=series_file_names[0]\n",
    "#                     PatientID=ImageFile.split('/')[6]\n",
    "#                     SubfolderName=ImageFile.split('/')[7].upper()\n",
    "                    ResultDict[n]={'DicomRawPaths':series_file_names,'NumberOfFile':len(series_file_names)}\n",
    "                    image_reader = sitk.ImageFileReader()\n",
    "                    image_reader.LoadPrivateTagsOn()\n",
    "                    image_reader.SetFileName(ImageFile)\n",
    "                    try:\n",
    "                        img = image_reader.Execute()\n",
    "                    except Exception as e:\n",
    "                        NeedCheck.append((PatientID,series_file_names,e))\n",
    "                        continue\n",
    "                    h=0\n",
    "                    for tag,name in InformationNeed:\n",
    "                        try:\n",
    "                            value=img.GetMetaData(tag)\n",
    "                        except:\n",
    "#                             print tag,name\n",
    "                            value=None\n",
    "                            h+=1\n",
    "                        ResultDict[n].update({name:value})\n",
    "                    if h>=9:\n",
    "                        ResultDict.pop(n)\n",
    "                        NeedCheck.append((PatientID,series_file_names,'No enough head inform'))\n",
    "                        continue\n",
    "                    if OutputRoot!=None:\n",
    "                        series_reader = sitk.ImageSeriesReader()\n",
    "                        series_reader.SetFileNames(series_file_names)\n",
    "                        NewFilePath=os.path.join(OutputRoot,PatientID,SubfolderName)\n",
    "                        try:\n",
    "                            os.makedirs(NewFilePath)\n",
    "                        except:\n",
    "                            pass\n",
    "                        try:\n",
    "                            image3D = series_reader.Execute()\n",
    "                        except Exception as e:\n",
    "                            NeedCheck.append((PatientID,series_file_names,e))\n",
    "                            continue\n",
    "                        SerDes=ResultDict[n]['SeriesDescription_0008_103e']\n",
    "                        SerP=''\n",
    "                        if SerPredictionModel!=None:\n",
    "                            try:\n",
    "                                TE=float(ResultDict[n]['EchoTime_0018_0081'])\n",
    "                                TR=float(ResultDict[n]['RepetitionTime_0018_0080'])\n",
    "                            except:\n",
    "                                print 'TE or TR not exist'\n",
    "                                pass\n",
    "                            try:\n",
    "                                SerPRaw=SerPredictionModel.predict([[TE,TR]])[0]\n",
    "                                SerP=SerPreResultExplainDict[SerPRaw]\n",
    "                                ResultDict[n].update({'SerPredict':SerP})\n",
    "                            except:\n",
    "                                print 'SerPredictionModel not usable | SerPreResultExplainDict not suitable, please check'\n",
    "                        if SerDes!=None and any(re.search(i,SerDes,re.I)!=None for i in ['T1','T2','Flair','c']):\n",
    "                            SerDesUse='_'.join([SerP,str(n)]+re.findall('\\w+',SerDes)).upper()\n",
    "                            sitk.WriteImage(image3D,NewFilePath+'/'+SerDesUse+'.nii.gz')\n",
    "                            \n",
    "                        else:\n",
    "                            SerDesUse=SerP+'_'+str(n)\n",
    "                            sitk.WriteImage(image3D,NewFilePath+'/'+SerDesUse+'.nii.gz')\n",
    "                        ResultDict[n].update({'NiiFilePath':NewFilePath+'/'+SerDesUse+'.nii.gz'})\n",
    "                    else:\n",
    "                        pass\n",
    "                    n+=1\n",
    "                    \n",
    "    ResultDf=pd.DataFrame(ResultDict).T\n",
    "    return ResultDf,NeedCheck"
   ]
  },
  {
   "cell_type": "code",
   "execution_count": 2,
   "metadata": {},
   "outputs": [],
   "source": [
    "import os\n",
    "import shutil\n",
    "# import pydicom\n",
    "import pandas as pd\n",
    "import SimpleITK as sitk\n",
    "import re\n",
    "InformationNeed=[[\"0008|0020\",'StudyDate_0008_0020'],\n",
    "                 [\"0008|0050\",'AccessionNumber_0008_0050'],\n",
    "                 [\"0008|0070\",'Manufacturer_0008_0070'],\n",
    "                 [\"0008|103e\",'SeriesDescription_0008_103e'],\n",
    "                 [\"0018|0023\",'MRAcquisitionType_0018_0023'],\n",
    "                 [\"0018|0025\",'AngioFlag_0018_0025'],[\"0018|1314\",'FlipAngle_0018_1314'],\n",
    "                 [\"0018|0050\",'SliceThickness_0018_0050'],\n",
    "                 [\"0018|0080\",'RepetitionTime_0018_0080'],\n",
    "                 [\"0018|0081\",'EchoTime_0018_0081'],\n",
    "                 [\"0018|0082\",'InversionTime_0018_0082'],\n",
    "                 [\"0018|0084\",'ImagingFrequency_0018_0084'],\n",
    "                 [\"0018|0087\",'MagneticFieldStrength_0018_0087'],\n",
    "                 [\"0020|0011\",'SeriesNumber_0020_0011'],\n",
    "                 [\"0010|0030\",'DOB_0010_0030'],\n",
    "                 [\"0010|0040\",'Gender_0010_0040'],['0010|0020','PatientID_0010_0040'],['0028|0010','Rows_0028_0010'],\n",
    "                 ['0028|0011','Columns_0028_0011'],['0028|0030','PixelSpacing_0028_0030']]\n",
    "# Use='D:/SH_MH_W/260-293/2/100482110/T2/PN100482110_20180612_4_17_01.dcm'\n",
    "# sitk.ImageSeriesReader.GetGDCMSeriesIDs('D:/SH_MH_W/260-293/2/100482110/+C/')"
   ]
  },
  {
   "cell_type": "code",
   "execution_count": 3,
   "metadata": {},
   "outputs": [],
   "source": [
    "\n",
    "import SimpleITK as sitk\n",
    "\n",
    "def ReadHeadInform(img,InformationNeed):\n",
    "    ResultDict={}\n",
    "    NeedCheck=False\n",
    "    h=0\n",
    "    for tag,name in InformationNeed:\n",
    "        try:\n",
    "            value=img.GetMetaData(tag)\n",
    "        except:\n",
    "    #                             print tag,name\n",
    "            value=None\n",
    "            h+=1\n",
    "        ResultDict.update({name:value})\n",
    "    if h>=9:\n",
    "        NeedCheck=True\n",
    "    return NeedCheck,ResultDict"
   ]
  },
  {
   "cell_type": "code",
   "execution_count": 4,
   "metadata": {},
   "outputs": [],
   "source": [
    "def ReadImg(root,filename):\n",
    "    image_reader = sitk.ImageFileReader()\n",
    "    image_reader.LoadPrivateTagsOn()\n",
    "    image_reader.SetFileName(os.path.join(root,filename))\n",
    "    temp=image_reader.Execute()\n",
    "    return temp"
   ]
  },
  {
   "cell_type": "code",
   "execution_count": 5,
   "metadata": {},
   "outputs": [],
   "source": [
    "import re\n",
    "def SerNameUse(SerName,SerNameNeedList=['DWI','T1','T2']):\n",
    "    SerListUse=sorted(SerNameNeedList,reverse=False)\n",
    "    for i in SerListUse:\n",
    "        if re.search(i,SerName,re.I)!=None:\n",
    "            return i"
   ]
  },
  {
   "cell_type": "code",
   "execution_count": 6,
   "metadata": {},
   "outputs": [],
   "source": [
    "import re\n",
    "import os\n",
    "def Regular_Image2Ser(root,FinialPathRoot,InformationNeed):\n",
    "    series_IDs = sitk.ImageSeriesReader.GetGDCMSeriesIDs(root)\n",
    "#             print series_IDs\n",
    "    NeedCheck=[]\n",
    "    FinialResult=[]\n",
    "    n=0\n",
    "    for s in series_IDs:\n",
    "#                     print s\n",
    "        series_file_names = sitk.ImageSeriesReader.GetGDCMSeriesFileNames(root, s)\n",
    "#                     print series_file_names\n",
    "        img=ReadImg(root,series_file_names[0])\n",
    "        Checking,ResultDict=ReadHeadInform(img,InformationNeed)\n",
    "        SerDes=str(ResultDict['SeriesDescription_0008_103e'])\n",
    "#             print SerDes\n",
    "        SerDesUse=SerNameUse(SerName=SerDes)\n",
    "        if SerDesUse=='T2':\n",
    "            if Checking:\n",
    "                NeedCheck.append((root,series_file_names))\n",
    "            else:\n",
    "                series_reader = sitk.ImageSeriesReader()\n",
    "                series_reader.SetFileNames(series_file_names)\n",
    "                try:\n",
    "                    Image = series_reader.Execute()\n",
    "                except:\n",
    "                    NeedCheck.append((root,series_file_names))\n",
    "                    continue\n",
    "\n",
    "                Path=os.path.join(FinialPathRoot,SerDesUse+'.nii.gz')\n",
    "                ResultDict.update({'NumberOfSlice':len(series_file_names),'NiiPath':Path,'DicomPath':root})\n",
    "                if os.path.isfile(Path):\n",
    "                    pass\n",
    "                else:\n",
    "                    sitk.WriteImage(Image,Path,True)\n",
    "                FinialResult.append(ResultDict)\n",
    "                \n",
    "    if  FinialResult!=[]:   \n",
    "        return  NeedCheck,FinialResult    \n",
    "    else:\n",
    "        raise ValueError"
   ]
  },
  {
   "cell_type": "code",
   "execution_count": 80,
   "metadata": {},
   "outputs": [
    {
     "data": {
      "text/plain": [
       "1.0"
      ]
     },
     "execution_count": 80,
     "metadata": {},
     "output_type": "execute_result"
    }
   ],
   "source": [
    "float(int(1.0))"
   ]
  },
  {
   "cell_type": "code",
   "execution_count": 7,
   "metadata": {},
   "outputs": [],
   "source": [
    "import numpy as np\n",
    "import SimpleITK as sitk\n",
    "def Image2Ser(root,FilesUse,Subgroup,NSer,FinialPathRoot,InformationNeed):\n",
    "    NeedCheck=[]\n",
    "    FinialPath=[]\n",
    "#     print(FilesUse)\n",
    "    temp=ReadImg(root,FilesUse[0])\n",
    "    Checking,ResultDict=ReadHeadInform(temp,InformationNeed)\n",
    "    \n",
    "    if Checking:\n",
    "        NeedCheck.append({'Path':root,'Files':FilesUse,'NubFiles':len(FilesUse)})\n",
    "    else:\n",
    "        SerDes=str(ResultDict['SeriesDescription_0008_103e'])\n",
    "#             print SerDes\n",
    "        SerDesUse=SerNameUse(SerName=SerDes)\n",
    "        TempArray=sitk.GetArrayFromImage(temp)\n",
    "        _,y,x= TempArray.shape\n",
    "        dtype= TempArray.dtype\n",
    "        if SerDesUse=='T1':\n",
    "            zz=len(FilesUse)/40.0\n",
    "            if zz!=float(int(zz)):\n",
    "                z1=len(FilesUse)/NSer[SerDesUse]\n",
    "                if z1!=float(int(z1)):\n",
    "                    z=None\n",
    "                    NeedCheck.append({'Path':root,'Files':FilesUse,'NubFiles':len(FilesUse)})\n",
    "                    pass\n",
    "                else:\n",
    "                    z=int(z1)\n",
    "                    ZZ=NSer[SerDesUse]+1\n",
    "            else:\n",
    "                z=40\n",
    "                ZZ=zz+1\n",
    "        else:\n",
    "            z1=len(FilesUse)/NSer[SerDesUse]\n",
    "            \n",
    "            if z1!=float(int(z1)):\n",
    "                z=None\n",
    "                NeedCheck.append({'Path':root,'Files':FilesUse,'NubFiles':len(FilesUse)})\n",
    "                pass \n",
    "            else:\n",
    "                z=int(z1)\n",
    "                ZZ=NSer[SerDesUse]+1\n",
    "        if z!=None:\n",
    "            ResultDict.update({'NumberOfSlice':z,'NubFiles':len(FilesUse)})\n",
    "            n=1\n",
    "    \n",
    "            while n<ZZ:\n",
    "                \n",
    "                ArrayNeed=np.zeros([z,y,x])\n",
    "                k=0\n",
    "                FileGroup=FilesUse[:z]\n",
    "                series_reader = sitk.ImageSeriesReader()\n",
    "                series_reader.SetFileNames([os.path.join(root,i) for i in FileGroup])\n",
    "#                 try:\n",
    "                Image = series_reader.Execute()\n",
    "#                 except:\n",
    "#                     NeedCheck.append({'Path':root,'Files':FilesUse,'NubFiles':len(FilesUse)})\n",
    "#                     pass\n",
    "                for f in FileGroup:\n",
    "#                     temp=ReadImg(root,f)\n",
    "#                     ArrayNeed[k,:,:]=sitk.GetArrayFromImage(temp)\n",
    "                    FilesUse.remove(f)\n",
    "                    k+=1\n",
    "#                 Image=sitk.GetImageFromArray(ArrayNeed.astype(dtype))\n",
    "                filename='_'.join([SerDesUse,Subgroup,'%d.nii.gz' % n])\n",
    "                Path=os.path.join(FinialPathRoot,filename)\n",
    "                \n",
    "                FinialPath.append(Path)\n",
    "                if os.path.isfile(Path):\n",
    "                    ImageRaw=sitk.ReadImage(Path)\n",
    "                    ImageRaw.CopyInformation(Image)\n",
    "                    sitk.WriteImage(ImageRaw,Path,True)\n",
    "                    pass\n",
    "                else:\n",
    "                    sitk.WriteImage(Image,Path,True)\n",
    "                \n",
    "                \n",
    "                n+=1\n",
    "            ResultDict.update({'NiiPath':FinialPath,'DicomPath':root,'TotalNumberDicom':len(FilesUse)})\n",
    "    return NeedCheck,ResultDict"
   ]
  },
  {
   "cell_type": "code",
   "execution_count": 8,
   "metadata": {},
   "outputs": [],
   "source": [
    "import re\n",
    "def Special_Image2Ser(root,FinialPathRoot,InformationNeed,NSer={'DWI':2.0,'T1':7.0,'T2':1.0}):\n",
    "    NeedCheck,FinialResult=[],[]\n",
    "    for r,folder,files in os.walk(root):\n",
    "        if files!=[]:\n",
    "            FilesUse_pre=list(filter(lambda x: re.search('_\\d{8}(_MR)?_\\d+_\\d+_\\d+\\.dcm',x)!=None,files))\n",
    "            SubSer=set(map(lambda x:'_'.join( x.split('_')[:-1]),FilesUse_pre))\n",
    "#             print(SubSer)\n",
    "            FilesUseList=[]\n",
    "            for i in SubSer:\n",
    "#                 print(i)\n",
    "                R=list(filter(lambda x: i in x,FilesUse_pre))\n",
    "                FilesUseList.append((i,sorted(R,key=lambda x: int(x.split('_')[-1].split('.')[0]))))\n",
    "            for S,FilesUse in FilesUseList:\n",
    "                S_use='_'.join(S.split('_')[-2:])\n",
    "                N,Fr=Image2Ser(root=r,FilesUse=FilesUse,Subgroup=S_use,NSer=NSer,FinialPathRoot=FinialPathRoot,InformationNeed=InformationNeed)\n",
    "                NeedCheck.extend(N)\n",
    "                FinialResult.append(Fr)\n",
    "    return NeedCheck,FinialResult"
   ]
  },
  {
   "cell_type": "code",
   "execution_count": 63,
   "metadata": {},
   "outputs": [
    {
     "data": {
      "text/plain": [
       "'/home2/nye/SH_MH_W/RawDicom/101915985/T2'"
      ]
     },
     "execution_count": 63,
     "metadata": {},
     "output_type": "execute_result"
    }
   ],
   "source": [
    "RootNeed[0]"
   ]
  },
  {
   "cell_type": "code",
   "execution_count": 10,
   "metadata": {
    "collapsed": true
   },
   "outputs": [],
   "source": [
    "RootNeed=[]\n",
    "for root,folder,files in os.walk('/home2/nye/SH_MH_W/RawDicom'):\n",
    "    if files!=[] and any('dcm' in i for i in files):\n",
    "        RootNeed.append(root)"
   ]
  },
  {
   "cell_type": "code",
   "execution_count": 53,
   "metadata": {},
   "outputs": [
    {
     "data": {
      "text/plain": [
       "872"
      ]
     },
     "execution_count": 53,
     "metadata": {},
     "output_type": "execute_result"
    }
   ],
   "source": [
    "len(RootNeed)"
   ]
  },
  {
   "cell_type": "code",
   "execution_count": 27,
   "metadata": {
    "collapsed": true
   },
   "outputs": [],
   "source": [
    "FinialPathRoot='/home2/nye/SH_MH_W/NiiUse'\n",
    "# CantRun=[]\n",
    "# import random\n",
    "\n",
    "# for root,folder,files in os.walk('/home2/nye/SH_MH_W/RawDicom/thy1/'):\n",
    "#     if files!=[] and any('dcm' in i for i in files):\n",
    "        \n",
    "def tempfun(root):\n",
    "    N=[]\n",
    "    Fr=[]\n",
    "    CantRun={}\n",
    "    FinialPathRootUse=os.path.join(FinialPathRoot,root.split('/')[-2])\n",
    "    try:\n",
    "        os.makedirs(FinialPathRootUse)\n",
    "    except:\n",
    "        pass\n",
    "#         print  FinialPathRootUse\n",
    "    try:\n",
    "        N,Fr=Special_Image2Ser(FinialPathRoot=FinialPathRootUse,\n",
    "                                  root=root,\n",
    "                                  InformationNeed=InformationNeed)\n",
    "    except:\n",
    "        Files=os.listdir(root)\n",
    "        CantRun={'Path':root,'Files':Files,'FileNub':len(list(filter(lambda x: 'dcm' in x,Files)))}\n",
    "\n",
    "    return N,Fr,CantRun"
   ]
  },
  {
   "cell_type": "code",
   "execution_count": 28,
   "metadata": {
    "collapsed": true
   },
   "outputs": [],
   "source": [
    "from subprocess import call\n",
    "from multiprocessing import Pool\n",
    "a=list(Pool(processes=30).imap(tempfun,RootNeed))"
   ]
  },
  {
   "cell_type": "code",
   "execution_count": 14,
   "metadata": {
    "scrolled": true
   },
   "outputs": [
    {
     "name": "stderr",
     "output_type": "stream",
     "text": [
      "IOPub data rate exceeded.\n",
      "The notebook server will temporarily stop sending output\n",
      "to the client in order to avoid crashing it.\n",
      "To change this limit, set the config variable\n",
      "`--NotebookApp.iopub_data_rate_limit`.\n"
     ]
    }
   ],
   "source": [
    "for a"
   ]
  },
  {
   "cell_type": "code",
   "execution_count": 29,
   "metadata": {
    "collapsed": true
   },
   "outputs": [],
   "source": [
    "CantRun=[]\n",
    "NeedCheck=[]\n",
    "Result=[]\n",
    "for x,y,z in a:\n",
    "    if z!={}:\n",
    "        CantRun.append(z)\n",
    "    NeedCheck.extend(x)\n",
    "    Result.extend(y)"
   ]
  },
  {
   "cell_type": "code",
   "execution_count": 33,
   "metadata": {
    "scrolled": true
   },
   "outputs": [
    {
     "data": {
      "text/plain": [
       "[{'FileNub': 78,\n",
       "  'Files': ['PN101429930_20180301_5_1_09.dcm',\n",
       "   'PN101429930_20180301_5_1_026.dcm',\n",
       "   'PN102456166_20180321_5_1_026.dcm',\n",
       "   'PN102456166_20180321_5_1_033.dcm',\n",
       "   'PN102456166_20180321_5_1_08.dcm',\n",
       "   'PN102456166_20180321_5_1_03.dcm',\n",
       "   'PN101429930_20180301_5_1_012.dcm',\n",
       "   'PN102456166_20180321_5_1_017.dcm',\n",
       "   'PN102456166_20180321_5_1_027.dcm',\n",
       "   'PN101429930_20180301_5_1_023.dcm',\n",
       "   'PN101429930_20180301_5_1_01.dcm',\n",
       "   'PN101429930_20180301_5_1_027.dcm',\n",
       "   'PN102456166_20180321_5_1_04.dcm',\n",
       "   'PN102456166_20180321_5_1_036.dcm',\n",
       "   'PN102456166_20180321_5_1_021.dcm',\n",
       "   'PN101429930_20180301_5_1_035.dcm',\n",
       "   'PN102456166_20180321_5_1_019.dcm',\n",
       "   'PN102456166_20180321_5_1_041.dcm',\n",
       "   'PN101429930_20180301_5_1_06.dcm',\n",
       "   'PN102456166_20180321_5_1_042.dcm',\n",
       "   'PN102456166_20180321_5_1_025.dcm',\n",
       "   'PN101429930_20180301_5_1_016.dcm',\n",
       "   'PN102456166_20180321_5_1_035.dcm',\n",
       "   'PN102456166_20180321_5_1_018.dcm',\n",
       "   'PN101429930_20180301_5_1_036.dcm',\n",
       "   'PN102456166_20180321_5_1_031.dcm',\n",
       "   'PN102456166_20180321_5_1_020.dcm',\n",
       "   'PN102456166_20180321_5_1_01.dcm',\n",
       "   'PN102456166_20180321_5_1_05.dcm',\n",
       "   'PN102456166_20180321_5_1_034.dcm',\n",
       "   'PN102456166_20180321_5_1_015.dcm',\n",
       "   'PN101429930_20180301_5_1_019.dcm',\n",
       "   'PN102456166_20180321_5_1_040.dcm',\n",
       "   'PN101429930_20180301_5_1_02.dcm',\n",
       "   'PN101429930_20180301_5_1_07.dcm',\n",
       "   'PN101429930_20180301_5_1_030.dcm',\n",
       "   'PN102456166_20180321_5_1_022.dcm',\n",
       "   'PN101429930_20180301_5_1_020.dcm',\n",
       "   'PN102456166_20180321_5_1_028.dcm',\n",
       "   'PN102456166_20180321_5_1_06.dcm',\n",
       "   'PN102456166_20180321_5_1_030.dcm',\n",
       "   'PN102456166_20180321_5_1_023.dcm',\n",
       "   'PN102456166_20180321_5_1_07.dcm',\n",
       "   'PN102456166_20180321_5_1_016.dcm',\n",
       "   'PN101429930_20180301_5_1_05.dcm',\n",
       "   'PN101429930_20180301_5_1_025.dcm',\n",
       "   'PN101429930_20180301_5_1_031.dcm',\n",
       "   'PN101429930_20180301_5_1_018.dcm',\n",
       "   'PN101429930_20180301_5_1_010.dcm',\n",
       "   'PN102456166_20180321_5_1_037.dcm',\n",
       "   'PN102456166_20180321_5_1_038.dcm',\n",
       "   'PN101429930_20180301_5_1_015.dcm',\n",
       "   'PN101429930_20180301_5_1_017.dcm',\n",
       "   'PN101429930_20180301_5_1_033.dcm',\n",
       "   'PN102456166_20180321_5_1_024.dcm',\n",
       "   'PN101429930_20180301_5_1_011.dcm',\n",
       "   'PN101429930_20180301_5_1_029.dcm',\n",
       "   'PN101429930_20180301_5_1_034.dcm',\n",
       "   'PN102456166_20180321_5_1_039.dcm',\n",
       "   '_desktop.ini',\n",
       "   'PN101429930_20180301_5_1_032.dcm',\n",
       "   'PN102456166_20180321_5_1_029.dcm',\n",
       "   'PN101429930_20180301_5_1_013.dcm',\n",
       "   'PN101429930_20180301_5_1_03.dcm',\n",
       "   'PN102456166_20180321_5_1_011.dcm',\n",
       "   'PN102456166_20180321_5_1_012.dcm',\n",
       "   'PN101429930_20180301_5_1_022.dcm',\n",
       "   'PN102456166_20180321_5_1_02.dcm',\n",
       "   'PN101429930_20180301_5_1_014.dcm',\n",
       "   'PN102456166_20180321_5_1_010.dcm',\n",
       "   'PN102456166_20180321_5_1_09.dcm',\n",
       "   'PN102456166_20180321_5_1_014.dcm',\n",
       "   'PN101429930_20180301_5_1_08.dcm',\n",
       "   'PN102456166_20180321_5_1_013.dcm',\n",
       "   'PN102456166_20180321_5_1_032.dcm',\n",
       "   'PN101429930_20180301_5_1_04.dcm',\n",
       "   'PN101429930_20180301_5_1_024.dcm',\n",
       "   'PN101429930_20180301_5_1_028.dcm',\n",
       "   'PN101429930_20180301_5_1_021.dcm'],\n",
       "  'Path': '/home2/nye/SH_MH_W/RawDicom/101429930/DWI'}]"
      ]
     },
     "execution_count": 33,
     "metadata": {},
     "output_type": "execute_result"
    }
   ],
   "source": [
    "CantRun"
   ]
  },
  {
   "cell_type": "code",
   "execution_count": 34,
   "metadata": {
    "collapsed": true
   },
   "outputs": [],
   "source": [
    "import pandas as pd\n",
    "HeadInform=pd.DataFrame({n:i for n,i in enumerate(Result)}).T"
   ]
  },
  {
   "cell_type": "code",
   "execution_count": null,
   "metadata": {
    "collapsed": true
   },
   "outputs": [],
   "source": []
  },
  {
   "cell_type": "code",
   "execution_count": 45,
   "metadata": {
    "scrolled": true
   },
   "outputs": [
    {
     "data": {
      "text/html": [
       "<div>\n",
       "<style>\n",
       "    .dataframe thead tr:only-child th {\n",
       "        text-align: right;\n",
       "    }\n",
       "\n",
       "    .dataframe thead th {\n",
       "        text-align: left;\n",
       "    }\n",
       "\n",
       "    .dataframe tbody tr th {\n",
       "        vertical-align: top;\n",
       "    }\n",
       "</style>\n",
       "<table border=\"1\" class=\"dataframe\">\n",
       "  <thead>\n",
       "    <tr style=\"text-align: right;\">\n",
       "      <th></th>\n",
       "      <th>AccessionNumber_0008_0050</th>\n",
       "      <th>AngioFlag_0018_0025</th>\n",
       "      <th>Columns_0028_0011</th>\n",
       "      <th>DOB_0010_0030</th>\n",
       "      <th>DicomPath</th>\n",
       "      <th>EchoTime_0018_0081</th>\n",
       "      <th>FlipAngle_0018_1314</th>\n",
       "      <th>Gender_0010_0040</th>\n",
       "      <th>ImagingFrequency_0018_0084</th>\n",
       "      <th>InversionTime_0018_0082</th>\n",
       "      <th>...</th>\n",
       "      <th>NiiPath</th>\n",
       "      <th>NumberOfSlice</th>\n",
       "      <th>PatientID_0010_0040</th>\n",
       "      <th>PixelSpacing_0028_0030</th>\n",
       "      <th>RepetitionTime_0018_0080</th>\n",
       "      <th>Rows_0028_0010</th>\n",
       "      <th>SeriesDescription_0008_103e</th>\n",
       "      <th>SeriesNumber_0020_0011</th>\n",
       "      <th>SliceThickness_0018_0050</th>\n",
       "      <th>StudyDate_0008_0020</th>\n",
       "    </tr>\n",
       "  </thead>\n",
       "  <tbody>\n",
       "    <tr>\n",
       "      <th>0</th>\n",
       "      <td>AN18012901560029</td>\n",
       "      <td>N</td>\n",
       "      <td>512</td>\n",
       "      <td>19670125</td>\n",
       "      <td>/home2/nye/SH_MH_W/RawDicom/thy5/102446022/T2</td>\n",
       "      <td>82.88</td>\n",
       "      <td>90</td>\n",
       "      <td>F</td>\n",
       "      <td>63.849391</td>\n",
       "      <td>0</td>\n",
       "      <td>...</td>\n",
       "      <td>[/home2/nye/SH_MH_W/NiiUse/102446022/T2_4_1_1....</td>\n",
       "      <td>18</td>\n",
       "      <td>PN102446022</td>\n",
       "      <td>0.2734\\0.2734</td>\n",
       "      <td>4520</td>\n",
       "      <td>512</td>\n",
       "      <td>OAx T2 fs</td>\n",
       "      <td>4</td>\n",
       "      <td>4</td>\n",
       "      <td>20180205</td>\n",
       "    </tr>\n",
       "    <tr>\n",
       "      <th>1</th>\n",
       "      <td>AN18012901560029</td>\n",
       "      <td>N</td>\n",
       "      <td>256</td>\n",
       "      <td>19670125</td>\n",
       "      <td>/home2/nye/SH_MH_W/RawDicom/thy5/102446022/DWI</td>\n",
       "      <td>88.5</td>\n",
       "      <td>90</td>\n",
       "      <td>F</td>\n",
       "      <td>63.849388</td>\n",
       "      <td>0</td>\n",
       "      <td>...</td>\n",
       "      <td>[/home2/nye/SH_MH_W/NiiUse/102446022/DWI_5_1_1...</td>\n",
       "      <td>22</td>\n",
       "      <td>PN102446022</td>\n",
       "      <td>0.5469\\0.5469</td>\n",
       "      <td>6200</td>\n",
       "      <td>256</td>\n",
       "      <td>OAx DWI b=800</td>\n",
       "      <td>5</td>\n",
       "      <td>4</td>\n",
       "      <td>20180205</td>\n",
       "    </tr>\n",
       "    <tr>\n",
       "      <th>2</th>\n",
       "      <td>AN18012901560029</td>\n",
       "      <td>N</td>\n",
       "      <td>512</td>\n",
       "      <td>19670125</td>\n",
       "      <td>/home2/nye/SH_MH_W/RawDicom/thy5/102446022/DCE</td>\n",
       "      <td>1.872</td>\n",
       "      <td>12</td>\n",
       "      <td>F</td>\n",
       "      <td>63.849388</td>\n",
       "      <td>0</td>\n",
       "      <td>...</td>\n",
       "      <td>[/home2/nye/SH_MH_W/NiiUse/102446022/T1_6_1_1....</td>\n",
       "      <td>45</td>\n",
       "      <td>PN102446022</td>\n",
       "      <td>0.2734\\0.2734</td>\n",
       "      <td>5.872</td>\n",
       "      <td>512</td>\n",
       "      <td>AX T1 FSPGR +c  1.75Ph</td>\n",
       "      <td>6</td>\n",
       "      <td>4</td>\n",
       "      <td>20180205</td>\n",
       "    </tr>\n",
       "    <tr>\n",
       "      <th>3</th>\n",
       "      <td>AN18040106650052</td>\n",
       "      <td>N</td>\n",
       "      <td>512</td>\n",
       "      <td>19521216</td>\n",
       "      <td>/home2/nye/SH_MH_W/RawDicom/thy5/102495333/T2</td>\n",
       "      <td>82.432</td>\n",
       "      <td>90</td>\n",
       "      <td>F</td>\n",
       "      <td>63.849291</td>\n",
       "      <td>0</td>\n",
       "      <td>...</td>\n",
       "      <td>[/home2/nye/SH_MH_W/NiiUse/102495333/T2_5_1_1....</td>\n",
       "      <td>18</td>\n",
       "      <td>PN102495333</td>\n",
       "      <td>0.2734\\0.2734</td>\n",
       "      <td>4480</td>\n",
       "      <td>512</td>\n",
       "      <td>OAx T2 fs</td>\n",
       "      <td>5</td>\n",
       "      <td>4</td>\n",
       "      <td>20180402</td>\n",
       "    </tr>\n",
       "    <tr>\n",
       "      <th>4</th>\n",
       "      <td>AN18040106650052</td>\n",
       "      <td>N</td>\n",
       "      <td>256</td>\n",
       "      <td>19521216</td>\n",
       "      <td>/home2/nye/SH_MH_W/RawDicom/thy5/102495333/DWI</td>\n",
       "      <td>85.6</td>\n",
       "      <td>90</td>\n",
       "      <td>F</td>\n",
       "      <td>63.849306</td>\n",
       "      <td>0</td>\n",
       "      <td>...</td>\n",
       "      <td>[/home2/nye/SH_MH_W/NiiUse/102495333/DWI_6_1_1...</td>\n",
       "      <td>18</td>\n",
       "      <td>PN102495333</td>\n",
       "      <td>0.5469\\0.5469</td>\n",
       "      <td>6200</td>\n",
       "      <td>256</td>\n",
       "      <td>OAx DWI b=800</td>\n",
       "      <td>6</td>\n",
       "      <td>4</td>\n",
       "      <td>20180402</td>\n",
       "    </tr>\n",
       "  </tbody>\n",
       "</table>\n",
       "<p>5 rows × 23 columns</p>\n",
       "</div>"
      ],
      "text/plain": [
       "  AccessionNumber_0008_0050 AngioFlag_0018_0025 Columns_0028_0011  \\\n",
       "0          AN18012901560029                  N                512   \n",
       "1          AN18012901560029                  N                256   \n",
       "2          AN18012901560029                  N                512   \n",
       "3          AN18040106650052                  N                512   \n",
       "4          AN18040106650052                  N                256   \n",
       "\n",
       "  DOB_0010_0030                                       DicomPath  \\\n",
       "0      19670125   /home2/nye/SH_MH_W/RawDicom/thy5/102446022/T2   \n",
       "1      19670125  /home2/nye/SH_MH_W/RawDicom/thy5/102446022/DWI   \n",
       "2      19670125  /home2/nye/SH_MH_W/RawDicom/thy5/102446022/DCE   \n",
       "3      19521216   /home2/nye/SH_MH_W/RawDicom/thy5/102495333/T2   \n",
       "4      19521216  /home2/nye/SH_MH_W/RawDicom/thy5/102495333/DWI   \n",
       "\n",
       "  EchoTime_0018_0081 FlipAngle_0018_1314 Gender_0010_0040  \\\n",
       "0             82.88                   90               F    \n",
       "1               88.5                  90               F    \n",
       "2             1.872                   12               F    \n",
       "3             82.432                  90               F    \n",
       "4               85.6                  90               F    \n",
       "\n",
       "  ImagingFrequency_0018_0084 InversionTime_0018_0082         ...          \\\n",
       "0                 63.849391                       0          ...           \n",
       "1                 63.849388                       0          ...           \n",
       "2                 63.849388                       0          ...           \n",
       "3                 63.849291                       0          ...           \n",
       "4                 63.849306                       0          ...           \n",
       "\n",
       "                                             NiiPath NumberOfSlice  \\\n",
       "0  [/home2/nye/SH_MH_W/NiiUse/102446022/T2_4_1_1....            18   \n",
       "1  [/home2/nye/SH_MH_W/NiiUse/102446022/DWI_5_1_1...            22   \n",
       "2  [/home2/nye/SH_MH_W/NiiUse/102446022/T1_6_1_1....            45   \n",
       "3  [/home2/nye/SH_MH_W/NiiUse/102495333/T2_5_1_1....            18   \n",
       "4  [/home2/nye/SH_MH_W/NiiUse/102495333/DWI_6_1_1...            18   \n",
       "\n",
       "  PatientID_0010_0040 PixelSpacing_0028_0030 RepetitionTime_0018_0080  \\\n",
       "0        PN102446022          0.2734\\0.2734                      4520   \n",
       "1        PN102446022          0.5469\\0.5469                      6200   \n",
       "2        PN102446022          0.2734\\0.2734                    5.872    \n",
       "3        PN102495333          0.2734\\0.2734                      4480   \n",
       "4        PN102495333          0.5469\\0.5469                      6200   \n",
       "\n",
       "  Rows_0028_0010 SeriesDescription_0008_103e SeriesNumber_0020_0011  \\\n",
       "0            512                  OAx T2 fs                      4    \n",
       "1            256              OAx DWI b=800                      5    \n",
       "2            512      AX T1 FSPGR +c  1.75Ph                     6    \n",
       "3            512                  OAx T2 fs                      5    \n",
       "4            256              OAx DWI b=800                      6    \n",
       "\n",
       "  SliceThickness_0018_0050 StudyDate_0008_0020  \n",
       "0                       4             20180205  \n",
       "1                       4             20180205  \n",
       "2                       4             20180205  \n",
       "3                       4             20180402  \n",
       "4                       4             20180402  \n",
       "\n",
       "[5 rows x 23 columns]"
      ]
     },
     "execution_count": 45,
     "metadata": {},
     "output_type": "execute_result"
    }
   ],
   "source": [
    "HeadInform.head()"
   ]
  },
  {
   "cell_type": "code",
   "execution_count": 37,
   "metadata": {
    "collapsed": true
   },
   "outputs": [],
   "source": [
    "HeadInform.to_excel('./HeadInform_20181010.xlsx')"
   ]
  },
  {
   "cell_type": "code",
   "execution_count": 36,
   "metadata": {
    "collapsed": true
   },
   "outputs": [],
   "source": [
    "NeedCheckDf=pd.DataFrame({n:i for n,i in enumerate(NeedCheck)}).T"
   ]
  },
  {
   "cell_type": "code",
   "execution_count": 38,
   "metadata": {
    "collapsed": true
   },
   "outputs": [],
   "source": [
    "NeedCheckDf.to_excel('./NeedCheckDf_20181010.xlsx')"
   ]
  },
  {
   "cell_type": "code",
   "execution_count": 137,
   "metadata": {
    "collapsed": true
   },
   "outputs": [],
   "source": [
    "MoreThan7=[]\n",
    "for d,i in zip(HeadInform.NiiPath,HeadInform.DicomPath):\n",
    "    try:\n",
    "        if len(d)>7:\n",
    "            MoreThan7.append(i)\n",
    "    except:\n",
    "        pass"
   ]
  },
  {
   "cell_type": "code",
   "execution_count": 40,
   "metadata": {},
   "outputs": [
    {
     "data": {
      "text/plain": [
       "17"
      ]
     },
     "execution_count": 40,
     "metadata": {},
     "output_type": "execute_result"
    }
   ],
   "source": [
    "len(NeedCheckDf)"
   ]
  },
  {
   "cell_type": "code",
   "execution_count": 139,
   "metadata": {},
   "outputs": [
    {
     "data": {
      "text/html": [
       "<div>\n",
       "<style>\n",
       "    .dataframe thead tr:only-child th {\n",
       "        text-align: right;\n",
       "    }\n",
       "\n",
       "    .dataframe thead th {\n",
       "        text-align: left;\n",
       "    }\n",
       "\n",
       "    .dataframe tbody tr th {\n",
       "        vertical-align: top;\n",
       "    }\n",
       "</style>\n",
       "<table border=\"1\" class=\"dataframe\">\n",
       "  <thead>\n",
       "    <tr style=\"text-align: right;\">\n",
       "      <th></th>\n",
       "      <th>AccessionNumber_0008_0050</th>\n",
       "      <th>AngioFlag_0018_0025</th>\n",
       "      <th>Columns_0028_0011</th>\n",
       "      <th>DOB_0010_0030</th>\n",
       "      <th>DicomPath</th>\n",
       "      <th>EchoTime_0018_0081</th>\n",
       "      <th>FlipAngle_0018_1314</th>\n",
       "      <th>Gender_0010_0040</th>\n",
       "      <th>ImagingFrequency_0018_0084</th>\n",
       "      <th>InversionTime_0018_0082</th>\n",
       "      <th>...</th>\n",
       "      <th>NumberOfSlice</th>\n",
       "      <th>PatientID_0010_0040</th>\n",
       "      <th>PixelSpacing_0028_0030</th>\n",
       "      <th>RepetitionTime_0018_0080</th>\n",
       "      <th>Rows_0028_0010</th>\n",
       "      <th>SeriesDescription_0008_103e</th>\n",
       "      <th>SeriesNumber_0020_0011</th>\n",
       "      <th>SliceThickness_0018_0050</th>\n",
       "      <th>StudyDate_0008_0020</th>\n",
       "      <th>TotalNumberDicom</th>\n",
       "    </tr>\n",
       "  </thead>\n",
       "  <tbody>\n",
       "    <tr>\n",
       "      <th>193</th>\n",
       "      <td>AN16052701560525</td>\n",
       "      <td>N</td>\n",
       "      <td>512</td>\n",
       "      <td>19600117</td>\n",
       "      <td>NaN</td>\n",
       "      <td>1.636</td>\n",
       "      <td>12</td>\n",
       "      <td>F</td>\n",
       "      <td>63.849673</td>\n",
       "      <td>0</td>\n",
       "      <td>...</td>\n",
       "      <td>NaN</td>\n",
       "      <td>PN101914505</td>\n",
       "      <td>0.4883\\0.4883</td>\n",
       "      <td>5.54</td>\n",
       "      <td>512</td>\n",
       "      <td>AX T1 FSPGR +c  1.75Ph</td>\n",
       "      <td>7</td>\n",
       "      <td>4</td>\n",
       "      <td>20160527</td>\n",
       "      <td>NaN</td>\n",
       "    </tr>\n",
       "    <tr>\n",
       "      <th>218</th>\n",
       "      <td>AN18070906650165</td>\n",
       "      <td>N</td>\n",
       "      <td>512</td>\n",
       "      <td>19660211</td>\n",
       "      <td>NaN</td>\n",
       "      <td>1.872</td>\n",
       "      <td>12</td>\n",
       "      <td>F</td>\n",
       "      <td>63.848941</td>\n",
       "      <td>0</td>\n",
       "      <td>...</td>\n",
       "      <td>NaN</td>\n",
       "      <td>PN102585421</td>\n",
       "      <td>0.2734\\0.2734</td>\n",
       "      <td>5.872</td>\n",
       "      <td>512</td>\n",
       "      <td>AX T1 FSPGR +c  1.75Ph</td>\n",
       "      <td>7</td>\n",
       "      <td>4</td>\n",
       "      <td>20180719</td>\n",
       "      <td>NaN</td>\n",
       "    </tr>\n",
       "    <tr>\n",
       "      <th>273</th>\n",
       "      <td>AN18080606650145</td>\n",
       "      <td>N</td>\n",
       "      <td>512</td>\n",
       "      <td>19670323</td>\n",
       "      <td>NaN</td>\n",
       "      <td>1.872</td>\n",
       "      <td>12</td>\n",
       "      <td>F</td>\n",
       "      <td>63.849402</td>\n",
       "      <td>0</td>\n",
       "      <td>...</td>\n",
       "      <td>NaN</td>\n",
       "      <td>PN102611664</td>\n",
       "      <td>0.2734\\0.2734</td>\n",
       "      <td>5.872</td>\n",
       "      <td>512</td>\n",
       "      <td>AX T1 FSPGR +c  1.75Ph</td>\n",
       "      <td>6</td>\n",
       "      <td>4</td>\n",
       "      <td>20180806</td>\n",
       "      <td>NaN</td>\n",
       "    </tr>\n",
       "    <tr>\n",
       "      <th>289</th>\n",
       "      <td>AN16101501560113</td>\n",
       "      <td>N</td>\n",
       "      <td>512</td>\n",
       "      <td>19810216</td>\n",
       "      <td>NaN</td>\n",
       "      <td>10.328</td>\n",
       "      <td>90</td>\n",
       "      <td>M</td>\n",
       "      <td>63.849475</td>\n",
       "      <td>0</td>\n",
       "      <td>...</td>\n",
       "      <td>NaN</td>\n",
       "      <td>PN102031635</td>\n",
       "      <td>0.4883\\0.4883</td>\n",
       "      <td>480</td>\n",
       "      <td>512</td>\n",
       "      <td>OAx T1</td>\n",
       "      <td>5</td>\n",
       "      <td>4</td>\n",
       "      <td>20161020</td>\n",
       "      <td>NaN</td>\n",
       "    </tr>\n",
       "    <tr>\n",
       "      <th>303</th>\n",
       "      <td>AN16030203980014</td>\n",
       "      <td>N</td>\n",
       "      <td>512</td>\n",
       "      <td>19940620</td>\n",
       "      <td>NaN</td>\n",
       "      <td>1.636</td>\n",
       "      <td>12</td>\n",
       "      <td>M</td>\n",
       "      <td>63.849601</td>\n",
       "      <td>0</td>\n",
       "      <td>...</td>\n",
       "      <td>NaN</td>\n",
       "      <td>PN101829633</td>\n",
       "      <td>0.4883\\0.4883</td>\n",
       "      <td>5.54</td>\n",
       "      <td>512</td>\n",
       "      <td>AX T1 FSPGR +c</td>\n",
       "      <td>7</td>\n",
       "      <td>4</td>\n",
       "      <td>20160303</td>\n",
       "      <td>NaN</td>\n",
       "    </tr>\n",
       "    <tr>\n",
       "      <th>315</th>\n",
       "      <td>AN18042306680300</td>\n",
       "      <td>N</td>\n",
       "      <td>512</td>\n",
       "      <td>19680910</td>\n",
       "      <td>NaN</td>\n",
       "      <td>1.872</td>\n",
       "      <td>12</td>\n",
       "      <td>M</td>\n",
       "      <td>63.849484</td>\n",
       "      <td>0</td>\n",
       "      <td>...</td>\n",
       "      <td>NaN</td>\n",
       "      <td>PN102514321</td>\n",
       "      <td>0.2734\\0.2734</td>\n",
       "      <td>5.868</td>\n",
       "      <td>512</td>\n",
       "      <td>AX T1 FSPGR +c  1.75Ph</td>\n",
       "      <td>7</td>\n",
       "      <td>4</td>\n",
       "      <td>20180423</td>\n",
       "      <td>NaN</td>\n",
       "    </tr>\n",
       "    <tr>\n",
       "      <th>381</th>\n",
       "      <td>AN17051903980001</td>\n",
       "      <td>N</td>\n",
       "      <td>512</td>\n",
       "      <td>19510109</td>\n",
       "      <td>NaN</td>\n",
       "      <td>10.72</td>\n",
       "      <td>90</td>\n",
       "      <td>M</td>\n",
       "      <td>63.84953</td>\n",
       "      <td>0</td>\n",
       "      <td>...</td>\n",
       "      <td>NaN</td>\n",
       "      <td>PN102228158</td>\n",
       "      <td>0.3125\\0.3125</td>\n",
       "      <td>440</td>\n",
       "      <td>512</td>\n",
       "      <td>OAx T1</td>\n",
       "      <td>6</td>\n",
       "      <td>4</td>\n",
       "      <td>20170520</td>\n",
       "      <td>NaN</td>\n",
       "    </tr>\n",
       "    <tr>\n",
       "      <th>417</th>\n",
       "      <td>AN16062001900025</td>\n",
       "      <td>N</td>\n",
       "      <td>512</td>\n",
       "      <td>19621212</td>\n",
       "      <td>NaN</td>\n",
       "      <td>1.636</td>\n",
       "      <td>12</td>\n",
       "      <td>F</td>\n",
       "      <td>63.849548</td>\n",
       "      <td>0</td>\n",
       "      <td>...</td>\n",
       "      <td>NaN</td>\n",
       "      <td>PN101934022</td>\n",
       "      <td>0.4883\\0.4883</td>\n",
       "      <td>5.532</td>\n",
       "      <td>512</td>\n",
       "      <td>AX T1 FSPGR +c  1.75Ph</td>\n",
       "      <td>10</td>\n",
       "      <td>4</td>\n",
       "      <td>20160620</td>\n",
       "      <td>NaN</td>\n",
       "    </tr>\n",
       "    <tr>\n",
       "      <th>516</th>\n",
       "      <td>AN16061004660265</td>\n",
       "      <td>N</td>\n",
       "      <td>256</td>\n",
       "      <td>19680523</td>\n",
       "      <td>NaN</td>\n",
       "      <td>82.9</td>\n",
       "      <td>90</td>\n",
       "      <td>M</td>\n",
       "      <td>63.849511</td>\n",
       "      <td>0</td>\n",
       "      <td>...</td>\n",
       "      <td>NaN</td>\n",
       "      <td>PN101925204</td>\n",
       "      <td>0.9766\\0.9766</td>\n",
       "      <td>6550</td>\n",
       "      <td>256</td>\n",
       "      <td>OAx DWI b=800</td>\n",
       "      <td>6</td>\n",
       "      <td>4</td>\n",
       "      <td>20160610</td>\n",
       "      <td>NaN</td>\n",
       "    </tr>\n",
       "    <tr>\n",
       "      <th>517</th>\n",
       "      <td>AN16061004660265</td>\n",
       "      <td>N</td>\n",
       "      <td>512</td>\n",
       "      <td>19680523</td>\n",
       "      <td>NaN</td>\n",
       "      <td>1.636</td>\n",
       "      <td>12</td>\n",
       "      <td>M</td>\n",
       "      <td>63.849511</td>\n",
       "      <td>0</td>\n",
       "      <td>...</td>\n",
       "      <td>NaN</td>\n",
       "      <td>PN101925204</td>\n",
       "      <td>0.4883\\0.4883</td>\n",
       "      <td>5.528</td>\n",
       "      <td>512</td>\n",
       "      <td>AX T1 FSPGR +c  1.75Ph</td>\n",
       "      <td>7</td>\n",
       "      <td>5</td>\n",
       "      <td>20160610</td>\n",
       "      <td>NaN</td>\n",
       "    </tr>\n",
       "    <tr>\n",
       "      <th>541</th>\n",
       "      <td>AN16053003980129</td>\n",
       "      <td>N</td>\n",
       "      <td>512</td>\n",
       "      <td>19501202</td>\n",
       "      <td>NaN</td>\n",
       "      <td>1.636</td>\n",
       "      <td>12</td>\n",
       "      <td>F</td>\n",
       "      <td>63.849521</td>\n",
       "      <td>0</td>\n",
       "      <td>...</td>\n",
       "      <td>NaN</td>\n",
       "      <td>PN101916173</td>\n",
       "      <td>0.4883\\0.4883</td>\n",
       "      <td>5.54</td>\n",
       "      <td>512</td>\n",
       "      <td>AX T1 FSPGR +c  1.75Ph</td>\n",
       "      <td>7</td>\n",
       "      <td>4</td>\n",
       "      <td>20160531</td>\n",
       "      <td>NaN</td>\n",
       "    </tr>\n",
       "    <tr>\n",
       "      <th>599</th>\n",
       "      <td>AN18062106650028</td>\n",
       "      <td>N</td>\n",
       "      <td>256</td>\n",
       "      <td>19690121</td>\n",
       "      <td>NaN</td>\n",
       "      <td>85.6</td>\n",
       "      <td>90</td>\n",
       "      <td>M</td>\n",
       "      <td>63.849448</td>\n",
       "      <td>0</td>\n",
       "      <td>...</td>\n",
       "      <td>NaN</td>\n",
       "      <td>PN102566947</td>\n",
       "      <td>0.5469\\0.5469</td>\n",
       "      <td>6200</td>\n",
       "      <td>256</td>\n",
       "      <td>OAx DWI b=800</td>\n",
       "      <td>5</td>\n",
       "      <td>4</td>\n",
       "      <td>20180621</td>\n",
       "      <td>NaN</td>\n",
       "    </tr>\n",
       "    <tr>\n",
       "      <th>661</th>\n",
       "      <td>AN16050603980349</td>\n",
       "      <td>N</td>\n",
       "      <td>512</td>\n",
       "      <td>19800201</td>\n",
       "      <td>NaN</td>\n",
       "      <td>1.636</td>\n",
       "      <td>12</td>\n",
       "      <td>F</td>\n",
       "      <td>63.849572</td>\n",
       "      <td>0</td>\n",
       "      <td>...</td>\n",
       "      <td>NaN</td>\n",
       "      <td>PN100115785</td>\n",
       "      <td>0.4883\\0.4883</td>\n",
       "      <td>5.54</td>\n",
       "      <td>512</td>\n",
       "      <td>AX T1 FSPGR +c  1.75Ph</td>\n",
       "      <td>7</td>\n",
       "      <td>4</td>\n",
       "      <td>20160511</td>\n",
       "      <td>NaN</td>\n",
       "    </tr>\n",
       "    <tr>\n",
       "      <th>783</th>\n",
       "      <td></td>\n",
       "      <td>N</td>\n",
       "      <td>256</td>\n",
       "      <td></td>\n",
       "      <td>NaN</td>\n",
       "      <td>68.5</td>\n",
       "      <td>90</td>\n",
       "      <td></td>\n",
       "      <td>63.849631</td>\n",
       "      <td>0</td>\n",
       "      <td>...</td>\n",
       "      <td>NaN</td>\n",
       "      <td>pn101815259</td>\n",
       "      <td>0.9766\\0.9766</td>\n",
       "      <td>6550</td>\n",
       "      <td>256</td>\n",
       "      <td>OAx DWI b=800</td>\n",
       "      <td>6</td>\n",
       "      <td>4</td>\n",
       "      <td>20160218</td>\n",
       "      <td>NaN</td>\n",
       "    </tr>\n",
       "    <tr>\n",
       "      <th>821</th>\n",
       "      <td>AN16041801560146</td>\n",
       "      <td>N</td>\n",
       "      <td>256</td>\n",
       "      <td>19510327</td>\n",
       "      <td>NaN</td>\n",
       "      <td>82.9</td>\n",
       "      <td>90</td>\n",
       "      <td>M</td>\n",
       "      <td>63.849536</td>\n",
       "      <td>0</td>\n",
       "      <td>...</td>\n",
       "      <td>NaN</td>\n",
       "      <td>PN101880321</td>\n",
       "      <td>0.9766\\0.9766</td>\n",
       "      <td>6550</td>\n",
       "      <td>256</td>\n",
       "      <td>OAx DWI b=800</td>\n",
       "      <td>6</td>\n",
       "      <td>4</td>\n",
       "      <td>20160418</td>\n",
       "      <td>NaN</td>\n",
       "    </tr>\n",
       "    <tr>\n",
       "      <th>822</th>\n",
       "      <td>AN16041801560146</td>\n",
       "      <td>N</td>\n",
       "      <td>512</td>\n",
       "      <td>19510327</td>\n",
       "      <td>NaN</td>\n",
       "      <td>1.636</td>\n",
       "      <td>12</td>\n",
       "      <td>M</td>\n",
       "      <td>63.849536</td>\n",
       "      <td>0</td>\n",
       "      <td>...</td>\n",
       "      <td>NaN</td>\n",
       "      <td>PN101880321</td>\n",
       "      <td>0.4883\\0.4883</td>\n",
       "      <td>5.54</td>\n",
       "      <td>512</td>\n",
       "      <td>AX T1 FSPGR +c  1.75Ph</td>\n",
       "      <td>7</td>\n",
       "      <td>4</td>\n",
       "      <td>20160418</td>\n",
       "      <td>NaN</td>\n",
       "    </tr>\n",
       "    <tr>\n",
       "      <th>824</th>\n",
       "      <td>AN18052506680138</td>\n",
       "      <td>N</td>\n",
       "      <td>256</td>\n",
       "      <td>19850918</td>\n",
       "      <td>NaN</td>\n",
       "      <td>85.6</td>\n",
       "      <td>90</td>\n",
       "      <td>F</td>\n",
       "      <td>63.849413</td>\n",
       "      <td>0</td>\n",
       "      <td>...</td>\n",
       "      <td>NaN</td>\n",
       "      <td>PN100529933</td>\n",
       "      <td>0.5469\\0.5469</td>\n",
       "      <td>6200</td>\n",
       "      <td>256</td>\n",
       "      <td>OAx DWI b=800</td>\n",
       "      <td>5</td>\n",
       "      <td>4</td>\n",
       "      <td>20180527</td>\n",
       "      <td>NaN</td>\n",
       "    </tr>\n",
       "  </tbody>\n",
       "</table>\n",
       "<p>17 rows × 25 columns</p>\n",
       "</div>"
      ],
      "text/plain": [
       "    AccessionNumber_0008_0050 AngioFlag_0018_0025 Columns_0028_0011  \\\n",
       "193          AN16052701560525                  N                512   \n",
       "218          AN18070906650165                  N                512   \n",
       "273          AN18080606650145                  N                512   \n",
       "289          AN16101501560113                  N                512   \n",
       "303          AN16030203980014                  N                512   \n",
       "315          AN18042306680300                  N                512   \n",
       "381          AN17051903980001                  N                512   \n",
       "417          AN16062001900025                  N                512   \n",
       "516          AN16061004660265                  N                256   \n",
       "517          AN16061004660265                  N                512   \n",
       "541          AN16053003980129                  N                512   \n",
       "599          AN18062106650028                  N                256   \n",
       "661          AN16050603980349                  N                512   \n",
       "783                                            N                256   \n",
       "821          AN16041801560146                  N                256   \n",
       "822          AN16041801560146                  N                512   \n",
       "824          AN18052506680138                  N                256   \n",
       "\n",
       "    DOB_0010_0030 DicomPath EchoTime_0018_0081 FlipAngle_0018_1314  \\\n",
       "193      19600117       NaN             1.636                   12   \n",
       "218      19660211       NaN             1.872                   12   \n",
       "273      19670323       NaN             1.872                   12   \n",
       "289      19810216       NaN             10.328                  90   \n",
       "303      19940620       NaN             1.636                   12   \n",
       "315      19680910       NaN             1.872                   12   \n",
       "381      19510109       NaN             10.72                   90   \n",
       "417      19621212       NaN             1.636                   12   \n",
       "516      19680523       NaN               82.9                  90   \n",
       "517      19680523       NaN             1.636                   12   \n",
       "541      19501202       NaN             1.636                   12   \n",
       "599      19690121       NaN               85.6                  90   \n",
       "661      19800201       NaN             1.636                   12   \n",
       "783                     NaN               68.5                  90   \n",
       "821      19510327       NaN               82.9                  90   \n",
       "822      19510327       NaN             1.636                   12   \n",
       "824      19850918       NaN               85.6                  90   \n",
       "\n",
       "    Gender_0010_0040 ImagingFrequency_0018_0084 InversionTime_0018_0082  \\\n",
       "193               F                  63.849673                       0    \n",
       "218               F                  63.848941                       0    \n",
       "273               F                  63.849402                       0    \n",
       "289               M                  63.849475                       0    \n",
       "303               M                  63.849601                       0    \n",
       "315               M                  63.849484                       0    \n",
       "381               M                    63.84953                      0    \n",
       "417               F                  63.849548                       0    \n",
       "516               M                  63.849511                       0    \n",
       "517               M                  63.849511                       0    \n",
       "541               F                  63.849521                       0    \n",
       "599               M                  63.849448                       0    \n",
       "661               F                  63.849572                       0    \n",
       "783                                  63.849631                       0    \n",
       "821               M                  63.849536                       0    \n",
       "822               M                  63.849536                       0    \n",
       "824               F                  63.849413                       0    \n",
       "\n",
       "          ...        NumberOfSlice PatientID_0010_0040 PixelSpacing_0028_0030  \\\n",
       "193       ...                  NaN        PN101914505          0.4883\\0.4883    \n",
       "218       ...                  NaN        PN102585421          0.2734\\0.2734    \n",
       "273       ...                  NaN        PN102611664          0.2734\\0.2734    \n",
       "289       ...                  NaN        PN102031635          0.4883\\0.4883    \n",
       "303       ...                  NaN        PN101829633          0.4883\\0.4883    \n",
       "315       ...                  NaN        PN102514321          0.2734\\0.2734    \n",
       "381       ...                  NaN        PN102228158          0.3125\\0.3125    \n",
       "417       ...                  NaN        PN101934022          0.4883\\0.4883    \n",
       "516       ...                  NaN        PN101925204          0.9766\\0.9766    \n",
       "517       ...                  NaN        PN101925204          0.4883\\0.4883    \n",
       "541       ...                  NaN        PN101916173          0.4883\\0.4883    \n",
       "599       ...                  NaN        PN102566947          0.5469\\0.5469    \n",
       "661       ...                  NaN        PN100115785          0.4883\\0.4883    \n",
       "783       ...                  NaN        pn101815259          0.9766\\0.9766    \n",
       "821       ...                  NaN        PN101880321          0.9766\\0.9766    \n",
       "822       ...                  NaN        PN101880321          0.4883\\0.4883    \n",
       "824       ...                  NaN        PN100529933          0.5469\\0.5469    \n",
       "\n",
       "    RepetitionTime_0018_0080 Rows_0028_0010 SeriesDescription_0008_103e  \\\n",
       "193                     5.54            512      AX T1 FSPGR +c  1.75Ph   \n",
       "218                   5.872             512      AX T1 FSPGR +c  1.75Ph   \n",
       "273                   5.872             512      AX T1 FSPGR +c  1.75Ph   \n",
       "289                     480             512                      OAx T1   \n",
       "303                     5.54            512              AX T1 FSPGR +c   \n",
       "315                   5.868             512      AX T1 FSPGR +c  1.75Ph   \n",
       "381                     440             512                      OAx T1   \n",
       "417                   5.532             512      AX T1 FSPGR +c  1.75Ph   \n",
       "516                     6550            256              OAx DWI b=800    \n",
       "517                   5.528             512      AX T1 FSPGR +c  1.75Ph   \n",
       "541                     5.54            512      AX T1 FSPGR +c  1.75Ph   \n",
       "599                     6200            256              OAx DWI b=800    \n",
       "661                     5.54            512      AX T1 FSPGR +c  1.75Ph   \n",
       "783                     6550            256              OAx DWI b=800    \n",
       "821                     6550            256              OAx DWI b=800    \n",
       "822                     5.54            512      AX T1 FSPGR +c  1.75Ph   \n",
       "824                     6200            256              OAx DWI b=800    \n",
       "\n",
       "    SeriesNumber_0020_0011 SliceThickness_0018_0050 StudyDate_0008_0020  \\\n",
       "193                     7                        4             20160527   \n",
       "218                     7                        4             20180719   \n",
       "273                     6                        4             20180806   \n",
       "289                     5                        4             20161020   \n",
       "303                     7                        4             20160303   \n",
       "315                     7                        4             20180423   \n",
       "381                     6                        4             20170520   \n",
       "417                     10                       4             20160620   \n",
       "516                     6                        4             20160610   \n",
       "517                     7                        5             20160610   \n",
       "541                     7                        4             20160531   \n",
       "599                     5                        4             20180621   \n",
       "661                     7                        4             20160511   \n",
       "783                     6                        4             20160218   \n",
       "821                     6                        4             20160418   \n",
       "822                     7                        4             20160418   \n",
       "824                     5                        4             20180527   \n",
       "\n",
       "    TotalNumberDicom  \n",
       "193              NaN  \n",
       "218              NaN  \n",
       "273              NaN  \n",
       "289              NaN  \n",
       "303              NaN  \n",
       "315              NaN  \n",
       "381              NaN  \n",
       "417              NaN  \n",
       "516              NaN  \n",
       "517              NaN  \n",
       "541              NaN  \n",
       "599              NaN  \n",
       "661              NaN  \n",
       "783              NaN  \n",
       "821              NaN  \n",
       "822              NaN  \n",
       "824              NaN  \n",
       "\n",
       "[17 rows x 25 columns]"
      ]
     },
     "execution_count": 139,
     "metadata": {},
     "output_type": "execute_result"
    }
   ],
   "source": [
    "HeadInform[HeadInform.NiiPath.isnull()]"
   ]
  },
  {
   "cell_type": "code",
   "execution_count": 141,
   "metadata": {},
   "outputs": [
    {
     "data": {
      "text/plain": [
       "0"
      ]
     },
     "execution_count": 141,
     "metadata": {},
     "output_type": "execute_result"
    }
   ],
   "source": [
    "HeadInform[(HeadInform.NiiPath.isnull())& ].index[0]"
   ]
  },
  {
   "cell_type": "code",
   "execution_count": 150,
   "metadata": {
    "collapsed": true
   },
   "outputs": [],
   "source": [
    "HeadInformUse=HeadInform[~(HeadInform.NiiPath.isnull())]\n",
    "# HeadInformUse.loc[:,'FileName']=[i[0].split('/')[-1].split('_')[0] for i in HeadInformUse.NiiPath]"
   ]
  },
  {
   "cell_type": "code",
   "execution_count": 152,
   "metadata": {},
   "outputs": [
    {
     "name": "stderr",
     "output_type": "stream",
     "text": [
      "/home/nye/anaconda2/lib/python2.7/site-packages/pandas/core/indexing.py:337: SettingWithCopyWarning: \n",
      "A value is trying to be set on a copy of a slice from a DataFrame.\n",
      "Try using .loc[row_indexer,col_indexer] = value instead\n",
      "\n",
      "See the caveats in the documentation: http://pandas.pydata.org/pandas-docs/stable/indexing.html#indexing-view-versus-copy\n",
      "  self.obj[key] = _infer_fill_value(value)\n",
      "/home/nye/anaconda2/lib/python2.7/site-packages/pandas/core/indexing.py:517: SettingWithCopyWarning: \n",
      "A value is trying to be set on a copy of a slice from a DataFrame.\n",
      "Try using .loc[row_indexer,col_indexer] = value instead\n",
      "\n",
      "See the caveats in the documentation: http://pandas.pydata.org/pandas-docs/stable/indexing.html#indexing-view-versus-copy\n",
      "  self.obj[item] = s\n"
     ]
    }
   ],
   "source": [
    "HeadInformUse.loc[:,'FolderName']=[i.split('/')[-1] for i in HeadInformUse.DicomPath]"
   ]
  },
  {
   "cell_type": "code",
   "execution_count": 155,
   "metadata": {},
   "outputs": [
    {
     "data": {
      "text/plain": [
       "{'DCE', 'DWI', 'T2', 'T2WI'}"
      ]
     },
     "execution_count": 155,
     "metadata": {},
     "output_type": "execute_result"
    }
   ],
   "source": [
    "set(HeadInformUse.FolderName)"
   ]
  },
  {
   "cell_type": "code",
   "execution_count": 160,
   "metadata": {},
   "outputs": [
    {
     "name": "stderr",
     "output_type": "stream",
     "text": [
      "/home/nye/anaconda2/lib/python2.7/site-packages/pandas/core/indexing.py:601: SettingWithCopyWarning: \n",
      "A value is trying to be set on a copy of a slice from a DataFrame.\n",
      "Try using .loc[row_indexer,col_indexer] = value instead\n",
      "\n",
      "See the caveats in the documentation: http://pandas.pydata.org/pandas-docs/stable/indexing.html#indexing-view-versus-copy\n",
      "  self.obj[item_labels[indexer[info_axis]]] = value\n"
     ]
    }
   ],
   "source": [
    "HeadInformUse.loc[:,'FileName']=[i[0].split('/')[-1].split('_')[0] for i in HeadInformUse.NiiPath]"
   ]
  },
  {
   "cell_type": "code",
   "execution_count": 163,
   "metadata": {
    "collapsed": true
   },
   "outputs": [],
   "source": [
    "HeadInformUse.loc[:,'FolderNameUse']=HeadInformUse.FolderName.map({'T2':'T2','DCE':'T1','DWI':'DWI','T2WI':'T2'})"
   ]
  },
  {
   "cell_type": "code",
   "execution_count": 161,
   "metadata": {
    "scrolled": true
   },
   "outputs": [
    {
     "data": {
      "text/plain": [
       "'T2'"
      ]
     },
     "execution_count": 161,
     "metadata": {},
     "output_type": "execute_result"
    }
   ],
   "source": [
    "HeadInformUse.FileName[0]"
   ]
  },
  {
   "cell_type": "code",
   "execution_count": 172,
   "metadata": {},
   "outputs": [
    {
     "data": {
      "text/plain": [
       "(873, 873)"
      ]
     },
     "execution_count": 172,
     "metadata": {},
     "output_type": "execute_result"
    }
   ],
   "source": [
    "len(SerNumberError),len(SerErrorDf)"
   ]
  },
  {
   "cell_type": "code",
   "execution_count": 174,
   "metadata": {
    "collapsed": true
   },
   "outputs": [],
   "source": [
    "SerNameError=[i!=j for i,j in zip(HeadInformUse.FolderNameUse,HeadInformUse.FileName)]\n",
    "SerNumberError=(HeadInformUse.NumberOfSlice<=15) | (HeadInformUse.NumberOfSlice>=44)\n",
    "# NoNii=HeadInform.NiiPath.isnull()\n",
    "AlignmentDf=HeadInformUse[~(SerNameError|SerNumberError)]"
   ]
  },
  {
   "cell_type": "code",
   "execution_count": 166,
   "metadata": {
    "collapsed": true
   },
   "outputs": [],
   "source": [
    "SerErrorDf=HeadInformUse[SerNameError]\n",
    "SerErrorDf.to_excel('./SerErrorDf.xlsx')"
   ]
  },
  {
   "cell_type": "code",
   "execution_count": 181,
   "metadata": {},
   "outputs": [
    {
     "data": {
      "text/plain": [
       "'1'"
      ]
     },
     "execution_count": 181,
     "metadata": {},
     "output_type": "execute_result"
    }
   ],
   "source": [
    "check_output(['/home/nye/Documents/SH_MH_W/CheckOutput.sh','.','.'])[0]"
   ]
  },
  {
   "cell_type": "code",
   "execution_count": 223,
   "metadata": {
    "collapsed": true
   },
   "outputs": [],
   "source": [
    "AllNeedCheck=HeadInformUse[(SerNameError|SerNumberError)]"
   ]
  },
  {
   "cell_type": "code",
   "execution_count": 225,
   "metadata": {
    "collapsed": true
   },
   "outputs": [],
   "source": [
    "NeedCheckFinial=pd.concat([HeadInform[(HeadInform.NiiPath.isnull())],HeadInformUse[(SerNameError)],HeadInformUse[(SerNumberError)]],\n",
    "          keys=['CantTrans','SerNameError','NumberPerSerError'])"
   ]
  },
  {
   "cell_type": "code",
   "execution_count": 226,
   "metadata": {
    "collapsed": true
   },
   "outputs": [],
   "source": [
    "NeedCheckFinial.to_excel('./NeedCheckFinial.xlsx')"
   ]
  },
  {
   "cell_type": "code",
   "execution_count": 236,
   "metadata": {},
   "outputs": [
    {
     "data": {
      "text/plain": [
       "Index([u'AccessionNumber_0008_0050', u'AngioFlag_0018_0025',\n",
       "       u'Columns_0028_0011', u'DOB_0010_0030', u'DicomPath',\n",
       "       u'EchoTime_0018_0081', u'FileName', u'FlipAngle_0018_1314',\n",
       "       u'FolderName', u'FolderNameUse', u'Gender_0010_0040',\n",
       "       u'ImagingFrequency_0018_0084', u'InversionTime_0018_0082',\n",
       "       u'MRAcquisitionType_0018_0023', u'MagneticFieldStrength_0018_0087',\n",
       "       u'Manufacturer_0008_0070', u'NiiPath', u'NubFiles', u'NumberOfSlice',\n",
       "       u'PatientID_0010_0040', u'PixelSpacing_0028_0030',\n",
       "       u'RepetitionTime_0018_0080', u'Rows_0028_0010',\n",
       "       u'SeriesDescription_0008_103e', u'SeriesNumber_0020_0011',\n",
       "       u'SliceThickness_0018_0050', u'StudyDate_0008_0020',\n",
       "       u'TotalNumberDicom'],\n",
       "      dtype='object')"
      ]
     },
     "execution_count": 236,
     "metadata": {},
     "output_type": "execute_result"
    }
   ],
   "source": [
    "NeedCheckFinial.columns"
   ]
  },
  {
   "cell_type": "code",
   "execution_count": 227,
   "metadata": {
    "collapsed": true
   },
   "outputs": [],
   "source": [
    "Usable=['102075302','102390108','102396205','102426454']"
   ]
  },
  {
   "cell_type": "code",
   "execution_count": 238,
   "metadata": {
    "collapsed": true
   },
   "outputs": [],
   "source": [
    "UsableDf=NeedCheckFinial[NeedCheckFinial.PatientID_0010_0040.isin(['PN'+i+' ' for i in Usable])].drop_duplicates(['SeriesDescription_0008_103e','PatientID_0010_0040'])"
   ]
  },
  {
   "cell_type": "code",
   "execution_count": 246,
   "metadata": {
    "collapsed": true
   },
   "outputs": [],
   "source": [
    "UsableDf.reset_index().drop(['level_1','level_0'],axis=1,inplace=True)"
   ]
  },
  {
   "cell_type": "code",
   "execution_count": 247,
   "metadata": {
    "collapsed": true
   },
   "outputs": [],
   "source": [
    "AlignmentDf1=pd.concat([UsableDf,AlignmentDf],ignore_index=True).reset_index().drop('index',axis=1)"
   ]
  },
  {
   "cell_type": "code",
   "execution_count": 249,
   "metadata": {},
   "outputs": [
    {
     "data": {
      "text/plain": [
       "(850, 28)"
      ]
     },
     "execution_count": 249,
     "metadata": {},
     "output_type": "execute_result"
    }
   ],
   "source": [
    "AlignmentDf1.shape"
   ]
  },
  {
   "cell_type": "code",
   "execution_count": 253,
   "metadata": {
    "collapsed": true
   },
   "outputs": [],
   "source": [
    "from subprocess import call,check_output\n",
    "\n",
    "def AlignmentFun(i):\n",
    "    Nii=AlignmentDf1.NiiPath[i][0]\n",
    "    Path='/'.join(Nii.split('/')[:-1])\n",
    "    Raw='/home2/nye/SH_MH_W/AlignmentRaw/'+Nii.split('/')[-2]\n",
    "    Use='/home2/nye/SH_MH_W/AlignmentUse/'+Nii.split('/')[-2]\n",
    "    if 'T1' in Nii:\n",
    "\n",
    "        PathUse=Path+'/T1*'\n",
    "        call(['/home/nye/Documents/SH_MH_W/T1merge.sh',PathUse,Raw,Use])\n",
    "    elif 'T2' in Nii:\n",
    "        PathUse=Nii\n",
    "        call(['mkdir','-p',Use])\n",
    "        call(['cp',PathUse,Use+'/T2.nii.gz'])\n",
    "    elif 'DWI' in Nii:\n",
    "        PathUse=Path+'/DWI*'\n",
    "        call(['/home/nye/Documents/SH_MH_W/ADC_generater.sh',PathUse,'800',Raw,Use])\n",
    "        \n",
    "    # check\n",
    "#     print PathUse\n",
    "    FinialF=Use+'/'+PathUse.split('/')[-1].split('_')[0]+'*'\n",
    "    C=check_output(['/home/nye/Documents/SH_MH_W/CheckOutput.sh',PathUse,FinialF])\n",
    "#     print PathUse,FinialF\n",
    "    if C[0]=='1':\n",
    "        return [True]\n",
    "    else:\n",
    "        return [False]"
   ]
  },
  {
   "cell_type": "code",
   "execution_count": 221,
   "metadata": {},
   "outputs": [
    {
     "data": {
      "text/plain": [
       "[True]"
      ]
     },
     "execution_count": 221,
     "metadata": {},
     "output_type": "execute_result"
    }
   ],
   "source": [
    "AlignmentFun(HeadInform[~HeadInform.NiiPath.isnull()].index[2])"
   ]
  },
  {
   "cell_type": "code",
   "execution_count": 254,
   "metadata": {
    "collapsed": true
   },
   "outputs": [],
   "source": [
    "from subprocess import call\n",
    "from multiprocessing import Pool\n",
    "a=list(Pool(processes=2).imap(AlignmentFun,AlignmentDf1.index))"
   ]
  },
  {
   "cell_type": "markdown",
   "metadata": {},
   "source": [
    "# updated patient 20181010"
   ]
  },
  {
   "cell_type": "code",
   "execution_count": null,
   "metadata": {
    "collapsed": true
   },
   "outputs": [],
   "source": []
  },
  {
   "cell_type": "code",
   "execution_count": 35,
   "metadata": {
    "collapsed": true
   },
   "outputs": [],
   "source": [
    "RootNeed=[]\n",
    "for root,folder,files in os.walk('/home2/nye/SH_MH_W/Updated/New/'):\n",
    "    if files!=[] and any('dcm' in i for i in files):\n",
    "        RootNeed.append(root)"
   ]
  },
  {
   "cell_type": "code",
   "execution_count": 41,
   "metadata": {
    "collapsed": true
   },
   "outputs": [],
   "source": [
    "FinialPathRoot='/home2/nye/SH_MH_W/NiiUse_updated'\n",
    "# CantRun=[]\n",
    "# import random\n",
    "\n",
    "# for root,folder,files in os.walk('/home2/nye/SH_MH_W/RawDicom/thy1/'):\n",
    "#     if files!=[] and any('dcm' in i for i in files):\n",
    "        \n",
    "def tempfun(root):\n",
    "    N=[]\n",
    "    Fr=[]\n",
    "    CantRun={}\n",
    "    FinialPathRootUse=os.path.join(FinialPathRoot,root.split('/')[-2])\n",
    "    try:\n",
    "        os.makedirs(FinialPathRootUse)\n",
    "    except:\n",
    "        pass\n",
    "#         print  FinialPathRootUse\n",
    "    try:\n",
    "        N,Fr=Special_Image2Ser(FinialPathRoot=FinialPathRootUse,\n",
    "                                  root=root,\n",
    "                                  InformationNeed=InformationNeed)\n",
    "    except:\n",
    "        Files=os.listdir(root)\n",
    "        CantRun={'Path':root,'Files':Files,'FileNub':len(list(filter(lambda x: 'dcm' in x,Files)))}\n",
    "\n",
    "    return N,Fr,CantRun\n",
    "\n",
    "from subprocess import call\n",
    "# from multiprocessing import Pool\n",
    "b=map(tempfun,RootNeed)"
   ]
  },
  {
   "cell_type": "code",
   "execution_count": 43,
   "metadata": {
    "collapsed": true
   },
   "outputs": [],
   "source": [
    "CantRun=[]\n",
    "NeedCheck=[]\n",
    "Result=[]\n",
    "for x,y,z in b:\n",
    "    if z!={}:\n",
    "        CantRun.append(z)\n",
    "    NeedCheck.extend(x)\n",
    "    Result.extend(y)"
   ]
  },
  {
   "cell_type": "code",
   "execution_count": 45,
   "metadata": {},
   "outputs": [
    {
     "data": {
      "text/plain": [
       "[]"
      ]
     },
     "execution_count": 45,
     "metadata": {},
     "output_type": "execute_result"
    }
   ],
   "source": [
    "CantRun"
   ]
  },
  {
   "cell_type": "code",
   "execution_count": 47,
   "metadata": {
    "collapsed": true
   },
   "outputs": [],
   "source": [
    "import pandas as pd\n",
    "HeadInform=pd.DataFrame({n:i for n,i in enumerate(Result)}).T\n",
    "\n",
    "\n",
    "\n",
    "# HeadInform.head()\n",
    "\n",
    "HeadInform.to_excel('./HeadInform_added_20181010.xlsx')\n",
    "\n",
    "NeedCheckDf=pd.DataFrame({n:i for n,i in enumerate(NeedCheck)}).T\n",
    "\n",
    "NeedCheckDf.to_excel('./NeedCheckDf_added_20181010.xlsx')"
   ]
  },
  {
   "cell_type": "code",
   "execution_count": 1,
   "metadata": {
    "collapsed": true
   },
   "outputs": [],
   "source": [
    "import pandas as pd\n",
    "HeadInform=pd.read_excel('./HeadInform_added_20181010.xlsx')"
   ]
  },
  {
   "cell_type": "code",
   "execution_count": 48,
   "metadata": {},
   "outputs": [
    {
     "data": {
      "text/html": [
       "<div>\n",
       "<style>\n",
       "    .dataframe thead tr:only-child th {\n",
       "        text-align: right;\n",
       "    }\n",
       "\n",
       "    .dataframe thead th {\n",
       "        text-align: left;\n",
       "    }\n",
       "\n",
       "    .dataframe tbody tr th {\n",
       "        vertical-align: top;\n",
       "    }\n",
       "</style>\n",
       "<table border=\"1\" class=\"dataframe\">\n",
       "  <thead>\n",
       "    <tr style=\"text-align: right;\">\n",
       "      <th></th>\n",
       "      <th>Files</th>\n",
       "      <th>NubFiles</th>\n",
       "      <th>Path</th>\n",
       "    </tr>\n",
       "  </thead>\n",
       "  <tbody>\n",
       "    <tr>\n",
       "      <th>0</th>\n",
       "      <td>[PN101934022_20160620_MR_10_288_001.dcm, PN101...</td>\n",
       "      <td>288</td>\n",
       "      <td>/home2/nye/SH_MH_W/Updated/New/101934022/DCE</td>\n",
       "    </tr>\n",
       "    <tr>\n",
       "      <th>1</th>\n",
       "      <td>[pn101815259_20160218_6_17_01.dcm, pn101815259...</td>\n",
       "      <td>51</td>\n",
       "      <td>/home2/nye/SH_MH_W/Updated/New/101815259/DWI</td>\n",
       "    </tr>\n",
       "  </tbody>\n",
       "</table>\n",
       "</div>"
      ],
      "text/plain": [
       "                                               Files NubFiles  \\\n",
       "0  [PN101934022_20160620_MR_10_288_001.dcm, PN101...      288   \n",
       "1  [pn101815259_20160218_6_17_01.dcm, pn101815259...       51   \n",
       "\n",
       "                                           Path  \n",
       "0  /home2/nye/SH_MH_W/Updated/New/101934022/DCE  \n",
       "1  /home2/nye/SH_MH_W/Updated/New/101815259/DWI  "
      ]
     },
     "execution_count": 48,
     "metadata": {},
     "output_type": "execute_result"
    }
   ],
   "source": [
    "NeedCheckDf"
   ]
  },
  {
   "cell_type": "code",
   "execution_count": 3,
   "metadata": {},
   "outputs": [],
   "source": [
    "HeadInformUse=HeadInform[~(HeadInform.NiiPath.isnull())]\n",
    "# HeadInformUse.loc[:,'FileName']=[i[0].split('/')[-1].split('_')[0] for i in HeadInformUse.NiiPath]"
   ]
  },
  {
   "cell_type": "code",
   "execution_count": 17,
   "metadata": {},
   "outputs": [
    {
     "name": "stdout",
     "output_type": "stream",
     "text": [
      "DWI_6_40_1.nii.gz  T1_7_320_2.nii.gz  T1_7_320_5.nii.gz  T1_7_320_8.nii.gz\r\n",
      "DWI_6_40_2.nii.gz  T1_7_320_3.nii.gz  T1_7_320_6.nii.gz  T2_3_11_1.nii.gz\r\n",
      "T1_7_320_1.nii.gz  T1_7_320_4.nii.gz  T1_7_320_7.nii.gz  T2_5_18_1.nii.gz\r\n"
     ]
    }
   ],
   "source": [
    "!ls /home2/nye/SH_MH_W/NiiUse/101040909"
   ]
  },
  {
   "cell_type": "code",
   "execution_count": 12,
   "metadata": {},
   "outputs": [
    {
     "data": {
      "text/plain": [
       "[u'/home2/nye/SH_MH_W/NiiUse_updated/101040909/T1_7_320_1.nii.gz',\n",
       " u'/home2/nye/SH_MH_W/NiiUse_updated/101040909/T1_7_320_2.nii.gz',\n",
       " u'/home2/nye/SH_MH_W/NiiUse_updated/101040909/T1_7_320_3.nii.gz',\n",
       " u'/home2/nye/SH_MH_W/NiiUse_updated/101040909/T1_7_320_4.nii.gz',\n",
       " u'/home2/nye/SH_MH_W/NiiUse_updated/101040909/T1_7_320_5.nii.gz',\n",
       " u'/home2/nye/SH_MH_W/NiiUse_updated/101040909/T1_7_320_6.nii.gz',\n",
       " u'/home2/nye/SH_MH_W/NiiUse_updated/101040909/T1_7_320_7.nii.gz']"
      ]
     },
     "execution_count": 12,
     "metadata": {},
     "output_type": "execute_result"
    }
   ],
   "source": [
    "import re\n",
    "re.findall('\\'(.*?)\\'',HeadInformUse.NiiPath[2])\n"
   ]
  },
  {
   "cell_type": "code",
   "execution_count": 19,
   "metadata": {},
   "outputs": [
    {
     "name": "stderr",
     "output_type": "stream",
     "text": [
      "Process PoolWorker-1:\n",
      "Process PoolWorker-2:\n",
      "KeyboardInterrupt\n",
      "Traceback (most recent call last):\n",
      "Traceback (most recent call last):\n",
      "  File \"/home/nye/anaconda2/lib/python2.7/multiprocessing/process.py\", line 267, in _bootstrap\n",
      "  File \"/home/nye/anaconda2/lib/python2.7/multiprocessing/process.py\", line 267, in _bootstrap\n",
      "    self.run()\n",
      "    self.run()\n",
      "  File \"/home/nye/anaconda2/lib/python2.7/multiprocessing/process.py\", line 114, in run\n",
      "  File \"/home/nye/anaconda2/lib/python2.7/multiprocessing/process.py\", line 114, in run\n",
      "    self._target(*self._args, **self._kwargs)\n",
      "    self._target(*self._args, **self._kwargs)\n",
      "  File \"/home/nye/anaconda2/lib/python2.7/multiprocessing/pool.py\", line 102, in worker\n",
      "  File \"/home/nye/anaconda2/lib/python2.7/multiprocessing/pool.py\", line 102, in worker\n",
      "    task = get()\n",
      "    task = get()\n",
      "  File \"/home/nye/anaconda2/lib/python2.7/multiprocessing/queues.py\", line 374, in get\n",
      "  File \"/home/nye/anaconda2/lib/python2.7/multiprocessing/queues.py\", line 376, in get\n",
      "    racquire()\n",
      "    return recv()\n",
      "KeyboardInterrupt\n"
     ]
    }
   ],
   "source": [
    "from subprocess import call,check_output\n",
    "import os\n",
    "import re\n",
    "def AlignmentFun(i):\n",
    "    NiiList=re.findall('\\'(.*?)\\'',HeadInformUse.NiiPath[i])\n",
    "    Nii=NiiList[0]\n",
    "    Path='/'.join(Nii.split('/')[:-1])\n",
    "    Raw='/home2/nye/SH_MH_W/AlignmentRaw_update/'+Nii.split('/')[-2]\n",
    "    Use='/home2/nye/SH_MH_W/AlignmentUse_update/'+Nii.split('/')[-2]\n",
    "    Files=[]\n",
    "    try:\n",
    "        Files=os.listdir(Use)\n",
    "    except:\n",
    "        pass\n",
    "    if 'T1' in Nii:\n",
    "        T1=filter(lambda x:re.search('T1',x)!=None,Files)\n",
    "        if len(T1)==len(NiiList):\n",
    "            pass\n",
    "        else:\n",
    "            PathUse=Path+'/T1*'\n",
    "            call(['/home/nye/Documents/SH_MH_W/T1merge.sh',PathUse,Raw,Use])\n",
    "    elif 'T2' in Nii:\n",
    "        PathUse=Nii\n",
    "        call(['mkdir','-p',Use])\n",
    "        call(['cp',PathUse,Use+'/T2.nii.gz'])\n",
    "    elif 'DWI' in Nii:\n",
    "        DWI=filter(lambda x:re.search('DWI|ADC',x)!=None,Files)\n",
    "        if len(DWI)==3:\n",
    "            pass\n",
    "        else:\n",
    "            PathUse=Path+'/DWI*'\n",
    "            call(['/home/nye/Documents/SH_MH_W/ADC_generater.sh',PathUse,'800',Raw,Use])\n",
    "        \n",
    "    # check\n",
    "#     print PathUse\n",
    "    FinialF=Use+'/'+PathUse.split('/')[-1].split('_')[0]+'*'\n",
    "    C=check_output(['/home/nye/Documents/SH_MH_W/CheckOutput.sh',PathUse,FinialF])\n",
    "#     print PathUse,FinialF\n",
    "    if C[0]=='1':\n",
    "        return [True]\n",
    "    else:\n",
    "        return [False]\n",
    "\n",
    "# AlignmentFun(HeadInform[~HeadInform.NiiPath.isnull()].index[2])\n",
    "\n",
    "from subprocess import call\n",
    "from multiprocessing import Pool\n",
    "a=list(Pool(processes=2).imap(AlignmentFun,HeadInformUse.index))"
   ]
  },
  {
   "cell_type": "code",
   "execution_count": 32,
   "metadata": {},
   "outputs": [],
   "source": [
    "RootNeed=[]\n",
    "for root,folder,files in os.walk('/home2/nye/SH_MH_W/Updated/update20181016/'):\n",
    "    if files!=[] and any('dcm' in i for i in files):\n",
    "        RootNeed.append(root)\n",
    "FinialPathRoot='/home2/nye/SH_MH_W/Updated/update20181016_Nii/'\n",
    "def tempfun(root):\n",
    "    N=[]\n",
    "    Fr=[]\n",
    "    CantRun={}\n",
    "    FinialPathRootUse=os.path.join(FinialPathRoot,root.split('/')[-2])\n",
    "    try:\n",
    "        os.makedirs(FinialPathRootUse)\n",
    "    except:\n",
    "        pass\n",
    "#         print  FinialPathRootUse\n",
    "#     try:\n",
    "    N,Fr=Special_Image2Ser(FinialPathRoot=FinialPathRootUse,\n",
    "                              root=root,\n",
    "                              InformationNeed=InformationNeed)\n",
    "#     except:\n",
    "#         Files=os.listdir(root)\n",
    "#         CantRun={'Path':root,'Files':Files,'FileNub':len(list(filter(lambda x: 'dcm' in x,Files)))}\n",
    "\n",
    "    return N,Fr,CantRun\n",
    "\n",
    "from subprocess import call\n",
    "# from multiprocessing import Pool\n",
    "b=map(tempfun,RootNeed)\n",
    "CantRun=[]\n",
    "NeedCheck=[]\n",
    "Result=[]\n",
    "for x,y,z in b:\n",
    "    if z!={}:\n",
    "        CantRun.append(z)\n",
    "    NeedCheck.extend(x)\n",
    "    Result.extend(y)"
   ]
  },
  {
   "cell_type": "code",
   "execution_count": 34,
   "metadata": {},
   "outputs": [],
   "source": [
    "import pandas as pd\n",
    "HeadInform=pd.DataFrame({n:i for n,i in enumerate(Result)}).T\n",
    "\n",
    "\n",
    "\n",
    "# HeadInform.head()\n",
    "\n",
    "HeadInform.to_excel('./HeadInform_added_20181016.xlsx')\n",
    "\n",
    "NeedCheckDf=pd.DataFrame({n:i for n,i in enumerate(NeedCheck)}).T\n",
    "\n",
    "NeedCheckDf.to_excel('./NeedCheckDf_added_20181016.xlsx')"
   ]
  },
  {
   "cell_type": "code",
   "execution_count": 37,
   "metadata": {
    "collapsed": true
   },
   "outputs": [],
   "source": [
    "HeadInformUse=HeadInform[~(HeadInform.NiiPath.isnull())]"
   ]
  },
  {
   "cell_type": "code",
   "execution_count": 41,
   "metadata": {
    "collapsed": true
   },
   "outputs": [],
   "source": [
    "from subprocess import call,check_output\n",
    "import os\n",
    "# import re\n",
    "def AlignmentFun(i):\n",
    "    NiiList=HeadInformUse.NiiPath[i]\n",
    "    Nii=NiiList[0]\n",
    "    Path='/'.join(Nii.split('/')[:-1])\n",
    "    Raw='/home2/nye/SH_MH_W/Updated/update20181016_AlignmentRaw/'+Nii.split('/')[-2]\n",
    "    Use='/home2/nye/SH_MH_W/Updated/update20181016_AlignmentUse/'+Nii.split('/')[-2]\n",
    "    Files=[]\n",
    "    try:\n",
    "        Files=os.listdir(Use)\n",
    "    except:\n",
    "        pass\n",
    "    if 'T1' in Nii:\n",
    "        T1=filter(lambda x:re.search('T1',x)!=None,Files)\n",
    "        if len(T1)==len(NiiList):\n",
    "            pass\n",
    "        else:\n",
    "            PathUse=Path+'/T1*'\n",
    "            call(['/home/nye/Documents/SH_MH_W/T1merge.sh',PathUse,Raw,Use])\n",
    "    elif 'T2' in Nii:\n",
    "        PathUse=Nii\n",
    "        call(['mkdir','-p',Use])\n",
    "        call(['cp',PathUse,Use+'/T2.nii.gz'])\n",
    "    elif 'DWI' in Nii:\n",
    "        DWI=filter(lambda x:re.search('DWI|ADC',x)!=None,Files)\n",
    "        if len(DWI)==3:\n",
    "            pass\n",
    "        else:\n",
    "            PathUse=Path+'/DWI*'\n",
    "            call(['/home/nye/Documents/SH_MH_W/ADC_generater.sh',PathUse,'800',Raw,Use])\n",
    "        \n",
    "    # check\n",
    "#     print PathUse\n",
    "    FinialF=Use+'/'+PathUse.split('/')[-1].split('_')[0]+'*'\n",
    "    C=check_output(['/home/nye/Documents/SH_MH_W/CheckOutput.sh',PathUse,FinialF])\n",
    "#     print PathUse,FinialF\n",
    "    if C[0]=='1':\n",
    "        return [True]\n",
    "    else:\n",
    "        return [False]\n",
    "\n",
    "# AlignmentFun(HeadInform[~HeadInform.NiiPath.isnull()].index[2])\n",
    "\n",
    "from subprocess import call\n",
    "from multiprocessing import Pool\n",
    "a=list(Pool(processes=2).imap(AlignmentFun,HeadInformUse.index))"
   ]
  },
  {
   "cell_type": "code",
   "execution_count": 42,
   "metadata": {},
   "outputs": [
    {
     "data": {
      "text/plain": [
       "[[True], [True], [True]]"
      ]
     },
     "execution_count": 42,
     "metadata": {},
     "output_type": "execute_result"
    }
   ],
   "source": [
    "a"
   ]
  },
  {
   "cell_type": "code",
   "execution_count": 43,
   "metadata": {},
   "outputs": [
    {
     "data": {
      "text/plain": [
       "[[True]]"
      ]
     },
     "execution_count": 43,
     "metadata": {},
     "output_type": "execute_result"
    }
   ],
   "source": [
    "RootNeed=[]\n",
    "for root,folder,files in os.walk('/home2/nye/SH_MH_W/Updated/20181018/'):\n",
    "    if files!=[] and any('dcm' in i for i in files):\n",
    "        RootNeed.append(root)\n",
    "FinialPathRoot='/home2/nye/SH_MH_W/Updated/20181018_Nii/'\n",
    "def tempfun(root):\n",
    "    N=[]\n",
    "    Fr=[]\n",
    "    CantRun={}\n",
    "    FinialPathRootUse=os.path.join(FinialPathRoot,root.split('/')[-2])\n",
    "    try:\n",
    "        os.makedirs(FinialPathRootUse)\n",
    "    except:\n",
    "        pass\n",
    "#         print  FinialPathRootUse\n",
    "#     try:\n",
    "    N,Fr=Special_Image2Ser(FinialPathRoot=FinialPathRootUse,\n",
    "                              root=root,\n",
    "                              InformationNeed=InformationNeed)\n",
    "#     except:\n",
    "#         Files=os.listdir(root)\n",
    "#         CantRun={'Path':root,'Files':Files,'FileNub':len(list(filter(lambda x: 'dcm' in x,Files)))}\n",
    "\n",
    "    return N,Fr,CantRun\n",
    "\n",
    "from subprocess import call\n",
    "# from multiprocessing import Pool\n",
    "b=map(tempfun,RootNeed)\n",
    "CantRun=[]\n",
    "NeedCheck=[]\n",
    "Result=[]\n",
    "for x,y,z in b:\n",
    "    if z!={}:\n",
    "        CantRun.append(z)\n",
    "    NeedCheck.extend(x)\n",
    "    Result.extend(y)\n",
    "\n",
    "import pandas as pd\n",
    "HeadInform=pd.DataFrame({n:i for n,i in enumerate(Result)}).T\n",
    "\n",
    "\n",
    "\n",
    "# HeadInform.head()\n",
    "\n",
    "HeadInform.to_excel('./HeadInform_added_20181018.xlsx')\n",
    "\n",
    "NeedCheckDf=pd.DataFrame({n:i for n,i in enumerate(NeedCheck)}).T\n",
    "\n",
    "NeedCheckDf.to_excel('./NeedCheckDf_added_20181018.xlsx')\n",
    "\n",
    "HeadInformUse=HeadInform[~(HeadInform.NiiPath.isnull())]\n",
    "\n",
    "from subprocess import call,check_output\n",
    "import os\n",
    "# import re\n",
    "def AlignmentFun(i):\n",
    "    NiiList=HeadInformUse.NiiPath[i]\n",
    "    Nii=NiiList[0]\n",
    "    Path='/'.join(Nii.split('/')[:-1])\n",
    "    Raw='/home2/nye/SH_MH_W/Updated/20181018_AlignmentRaw/'+Nii.split('/')[-2]\n",
    "    Use='/home2/nye/SH_MH_W/Updated/20181018_AlignmentUse/'+Nii.split('/')[-2]\n",
    "    Files=[]\n",
    "    try:\n",
    "        Files=os.listdir(Use)\n",
    "    except:\n",
    "        pass\n",
    "    if 'T1' in Nii:\n",
    "        T1=filter(lambda x:re.search('T1',x)!=None,Files)\n",
    "        if len(T1)==len(NiiList):\n",
    "            pass\n",
    "        else:\n",
    "            PathUse=Path+'/T1*'\n",
    "            call(['/home/nye/Documents/SH_MH_W/T1merge.sh',PathUse,Raw,Use])\n",
    "    elif 'T2' in Nii:\n",
    "        PathUse=Nii\n",
    "        call(['mkdir','-p',Use])\n",
    "        call(['cp',PathUse,Use+'/T2.nii.gz'])\n",
    "    elif 'DWI' in Nii:\n",
    "        DWI=filter(lambda x:re.search('DWI|ADC',x)!=None,Files)\n",
    "        if len(DWI)==3:\n",
    "            pass\n",
    "        else:\n",
    "            PathUse=Path+'/DWI*'\n",
    "            call(['/home/nye/Documents/SH_MH_W/ADC_generater.sh',PathUse,'800',Raw,Use])\n",
    "        \n",
    "    # check\n",
    "#     print PathUse\n",
    "    FinialF=Use+'/'+PathUse.split('/')[-1].split('_')[0]+'*'\n",
    "    C=check_output(['/home/nye/Documents/SH_MH_W/CheckOutput.sh',PathUse,FinialF])\n",
    "#     print PathUse,FinialF\n",
    "    if C[0]=='1':\n",
    "        return [True]\n",
    "    else:\n",
    "        return [False]\n",
    "\n",
    "# AlignmentFun(HeadInform[~HeadInform.NiiPath.isnull()].index[2])\n",
    "\n",
    "from subprocess import call\n",
    "# from multiprocessing import Pool\n",
    "map(AlignmentFun,HeadInformUse.index)"
   ]
  },
  {
   "cell_type": "code",
   "execution_count": 11,
   "metadata": {},
   "outputs": [],
   "source": [
    "# RootNeed=[]\n",
    "# import os\n",
    "# for root,folder,files in os.walk('/home2/nye/SH_MH_W/Updated/thyroid20181023/Dicom-supplement/'):\n",
    "#     if files!=[] and any('dcm' in i for i in files):\n",
    "#         RootNeed.append(root)\n",
    "# FinialPathRoot='/home2/nye/SH_MH_W/Updated/thyroid20181023/Dicom-supplement_nii/'\n",
    "# def tempfun(root):\n",
    "#     N=[]\n",
    "#     Fr=[]\n",
    "#     CantRun={}\n",
    "#     FinialPathRootUse=os.path.join(FinialPathRoot,root.split('/')[-2])\n",
    "#     try:\n",
    "#         os.makedirs(FinialPathRootUse)\n",
    "#     except:\n",
    "#         pass\n",
    "# #         print  FinialPathRootUse\n",
    "# #     try:\n",
    "#     N,Fr=Special_Image2Ser(FinialPathRoot=FinialPathRootUse,\n",
    "#                               root=root,\n",
    "#                               InformationNeed=InformationNeed)\n",
    "# #     except:\n",
    "# #         Files=os.listdir(root)\n",
    "# #         CantRun={'Path':root,'Files':Files,'FileNub':len(list(filter(lambda x: 'dcm' in x,Files)))}\n",
    "\n",
    "#     return N,Fr,CantRun\n",
    "\n",
    "# from subprocess import call\n",
    "# # from multiprocessing import Pool\n",
    "# b=map(tempfun,RootNeed)\n",
    "# CantRun=[]\n",
    "# NeedCheck=[]\n",
    "# Result=[]\n",
    "# for x,y,z in b:\n",
    "#     if z!={}:\n",
    "#         CantRun.append(z)\n",
    "#     NeedCheck.extend(x)\n",
    "#     Result.extend(y)\n",
    "\n",
    "# import pandas as pd\n",
    "# HeadInform=pd.DataFrame({n:i for n,i in enumerate(Result)}).T\n",
    "\n",
    "\n",
    "\n",
    "# # HeadInform.head()\n",
    "\n",
    "# HeadInform.to_excel('./BaseInform/HeadInform_added_20181024.xlsx')\n",
    "\n",
    "# NeedCheckDf=pd.DataFrame({n:i for n,i in enumerate(NeedCheck)}).T\n",
    "\n",
    "# NeedCheckDf.to_excel('./BaseInform/NeedCheckDf_added_20181024.xlsx')\n",
    "\n",
    "# HeadInformUse=HeadInform[~(HeadInform.NiiPath.isnull())]\n",
    "\n",
    "from subprocess import call,check_output\n",
    "import os\n",
    "# import re\n",
    "def AlignmentFun(i):\n",
    "    NiiList=HeadInformUse.NiiPath[i]\n",
    "    Nii=NiiList[0]\n",
    "    Path='/'.join(Nii.split('/')[:-1])\n",
    "    Raw='/home2/nye/SH_MH_W/Updated/thyroid20181023/Dicom-supplement_AlignmentRaw/'+Nii.split('/')[-2]\n",
    "    Use='/home2/nye/SH_MH_W/Updated/thyroid20181023/Dicom-supplement_AlignmentUse/'+Nii.split('/')[-2]\n",
    "    Files=[]\n",
    "    try:\n",
    "        Files=os.listdir(Use)\n",
    "    except:\n",
    "        pass\n",
    "    if 'T1' in Nii:\n",
    "        T1=filter(lambda x:re.search('T1',x)!=None,Files)\n",
    "        if len(T1)==len(NiiList):\n",
    "            pass\n",
    "        else:\n",
    "            PathUse=Path+'/T1*'\n",
    "            call(['/home/nye/Documents/SH_MH_W/T1merge.sh',PathUse,Raw,Use])\n",
    "    elif 'T2' in Nii:\n",
    "        PathUse=Nii\n",
    "        call(['mkdir','-p',Use])\n",
    "        call(['cp',PathUse,Use+'/'+PathUse.split('/')[-1]])\n",
    "    elif 'DWI' in Nii:\n",
    "        DWI=filter(lambda x:re.search('DWI|ADC',x)!=None,Files)\n",
    "        if len(DWI)==3:\n",
    "            pass\n",
    "        else:\n",
    "            PathUse=Path+'/DWI*'\n",
    "            call(['/home/nye/Documents/SH_MH_W/ADC_generater.sh',PathUse,'800',Raw,Use])\n",
    "        \n",
    "    # check\n",
    "#     print PathUse\n",
    "    FinialF=Use+'/'+PathUse.split('/')[-1].split('_')[0]+'*'\n",
    "    C=check_output(['/home/nye/Documents/SH_MH_W/CheckOutput.sh',PathUse,FinialF])\n",
    "#     print PathUse,FinialF\n",
    "    if C[0]=='1':\n",
    "        return [True]\n",
    "    else:\n",
    "        return [False]\n",
    "\n",
    "# # AlignmentFun(HeadInform[~HeadInform.NiiPath.isnull()].index[2])\n",
    "\n",
    "from subprocess import call\n",
    "from multiprocessing import Pool\n",
    "a=list(Pool(processes=2).imap(AlignmentFun,HeadInformUse.index))"
   ]
  },
  {
   "cell_type": "code",
   "execution_count": 202,
   "metadata": {
    "collapsed": true
   },
   "outputs": [],
   "source": [
    "aa='/home2/nye/SH_MH_W/NiiUse/101915985/DWI*'.split('/')[-1].split('_')[0]\n",
    "x='/home2/nye/SH_MH_W/NiiUse/101915985/DWI*'"
   ]
  },
  {
   "cell_type": "code",
   "execution_count": 200,
   "metadata": {
    "collapsed": true
   },
   "outputs": [],
   "source": [
    "bb='/home2/nye/SH_MH_W/AlignmentUse/101915985'+'/'+aa"
   ]
  },
  {
   "cell_type": "code",
   "execution_count": 203,
   "metadata": {},
   "outputs": [
    {
     "data": {
      "text/plain": [
       "'/home2/nye/SH_MH_W/NiiUse/101915985/DWI*'"
      ]
     },
     "execution_count": 203,
     "metadata": {},
     "output_type": "execute_result"
    }
   ],
   "source": [
    "x"
   ]
  },
  {
   "cell_type": "code",
   "execution_count": 204,
   "metadata": {},
   "outputs": [
    {
     "data": {
      "text/plain": [
       "'0\\n'"
      ]
     },
     "execution_count": 204,
     "metadata": {},
     "output_type": "execute_result"
    }
   ],
   "source": [
    "check_output(['/home/nye/Documents/SH_MH_W/CheckOutput.sh',x,bb])"
   ]
  },
  {
   "cell_type": "code",
   "execution_count": 42,
   "metadata": {
    "collapsed": true
   },
   "outputs": [],
   "source": [
    "RootNeed_updated=[]\n",
    "for root,folder,files in os.walk('/home2/nye/SH_MH_W/Updated'):\n",
    "    if files!=[] and any('dcm' in i for i in files):\n",
    "        RootNeed.append(root)"
   ]
  },
  {
   "cell_type": "code",
   "execution_count": 43,
   "metadata": {
    "collapsed": true
   },
   "outputs": [],
   "source": [
    "for i in RootNeed_updated:\n",
    "    x,y,z=tempfun(i)\n",
    "    if z!={}:\n",
    "        CantRun.append(z)\n",
    "    NeedCheck.extend(x)\n",
    "    Result.extend(y)"
   ]
  },
  {
   "cell_type": "code",
   "execution_count": 44,
   "metadata": {
    "collapsed": true
   },
   "outputs": [],
   "source": [
    "import pandas as pd\n",
    "HeadInform=pd.DataFrame({n:x for n,x in enumerate(Result)}).T"
   ]
  },
  {
   "cell_type": "code",
   "execution_count": 33,
   "metadata": {
    "collapsed": true
   },
   "outputs": [],
   "source": [
    "FinialPathRoot='.\\\\NiiUse'\n",
    "NeedCheck1=[]\n",
    "for root in set(NeedCheck):\n",
    "    FinialPathRootUse=os.path.join(FinialPathRoot,root.split('\\\\')[-2])\n",
    "    try:\n",
    "        N,Fr=Regular_Image2Ser(FinialPathRoot=FinialPathRootUse,\n",
    "                              root=root,\n",
    "                              InformationNeed=InformationNeed)\n",
    "    except:\n",
    "        try:\n",
    "            N,Fr=Special_Image2Ser(FinialPathRoot=FinialPathRootUse,\n",
    "                                  root=root,\n",
    "                                  InformationNeed=InformationNeed)\n",
    "        except:\n",
    "            try:\n",
    "                Number=random.randrange(10)\n",
    "                NewPath= os.path.join(*root.split('\\\\')[:-1]+['RandomChangedName%d' %Number])\n",
    "                os.rename(root,NewPath)\n",
    "                N,Fr=Special_Image2Ser(FinialPathRoot=FinialPathRootUse,\n",
    "                                      root=NewPath,\n",
    "                                      InformationNeed=InformationNeed)\n",
    "            except:\n",
    "                print(NewPath)\n",
    "                CantRun.append(NewPath)\n",
    "    NeedCheck1.extend(N)\n",
    "    Result.extend(Fr)"
   ]
  },
  {
   "cell_type": "code",
   "execution_count": 34,
   "metadata": {},
   "outputs": [
    {
     "data": {
      "text/plain": [
       "['D:\\\\SH_MH_W\\\\260-293\\\\1\\\\100529933\\\\DWI',\n",
       " 'D:\\\\SH_MH_W\\\\260-293\\\\1\\\\100539031\\\\+C',\n",
       " 'D:\\\\SH_MH_W\\\\120-154\\\\102272026\\\\T2WI',\n",
       " 'D:\\\\SH_MH_W\\\\225-259\\\\102514321\\\\+C',\n",
       " 'D:\\\\SH_MH_W\\\\260-293\\\\1\\\\102611664\\\\+C',\n",
       " 'D:\\\\SH_MH_W\\\\260-293\\\\1\\\\102574360\\\\+C',\n",
       " 'D:\\\\SH_MH_W\\\\260-293\\\\1\\\\102574360\\\\+C',\n",
       " 'D:\\\\SH_MH_W\\\\260-293\\\\1\\\\102566947\\\\DWI',\n",
       " 'D:\\\\SH_MH_W\\\\225-259\\\\102524505\\\\+C']"
      ]
     },
     "execution_count": 34,
     "metadata": {},
     "output_type": "execute_result"
    }
   ],
   "source": [
    "NeedCheck1"
   ]
  },
  {
   "cell_type": "code",
   "execution_count": 35,
   "metadata": {
    "collapsed": true
   },
   "outputs": [],
   "source": [
    "import pandas as pd\n",
    "HeadInform=pd.DataFrame({n:x for n,x in enumerate(Result)}).T"
   ]
  },
  {
   "cell_type": "code",
   "execution_count": 41,
   "metadata": {},
   "outputs": [
    {
     "data": {
      "text/plain": [
       "'PN100190321 '"
      ]
     },
     "execution_count": 41,
     "metadata": {},
     "output_type": "execute_result"
    }
   ],
   "source": [
    "HeadInform.PatientID_0010_0040[0]"
   ]
  },
  {
   "cell_type": "code",
   "execution_count": 43,
   "metadata": {
    "collapsed": true
   },
   "outputs": [],
   "source": [
    "HeadInformUse=HeadInform[~HeadInform.DicomPath.isna()]"
   ]
  },
  {
   "cell_type": "code",
   "execution_count": 44,
   "metadata": {
    "collapsed": true
   },
   "outputs": [],
   "source": [
    "HeadInformUse.to_excel('./HeadInform.xlsx')"
   ]
  },
  {
   "cell_type": "code",
   "execution_count": 45,
   "metadata": {},
   "outputs": [
    {
     "ename": "NameError",
     "evalue": "name 'ln' is not defined",
     "output_type": "error",
     "traceback": [
      "\u001b[1;31m---------------------------------------------------------------------------\u001b[0m",
      "\u001b[1;31mNameError\u001b[0m                                 Traceback (most recent call last)",
      "\u001b[1;32m<ipython-input-45-709b8b1aedb8>\u001b[0m in \u001b[0;36m<module>\u001b[1;34m()\u001b[0m\n\u001b[1;32m----> 1\u001b[1;33m \u001b[0mln\u001b[0m\u001b[1;33m(\u001b[0m\u001b[1;33m)\u001b[0m\u001b[1;33m\u001b[0m\u001b[0m\n\u001b[0m",
      "\u001b[1;31mNameError\u001b[0m: name 'ln' is not defined"
     ]
    }
   ],
   "source": []
  },
  {
   "cell_type": "code",
   "execution_count": null,
   "metadata": {
    "collapsed": true
   },
   "outputs": [],
   "source": []
  }
 ],
 "metadata": {
  "kernelspec": {
   "display_name": "Python 2",
   "language": "python",
   "name": "python2"
  },
  "language_info": {
   "codemirror_mode": {
    "name": "ipython",
    "version": 2
   },
   "file_extension": ".py",
   "mimetype": "text/x-python",
   "name": "python",
   "nbconvert_exporter": "python",
   "pygments_lexer": "ipython2",
   "version": "2.7.14"
  }
 },
 "nbformat": 4,
 "nbformat_minor": 2
}
