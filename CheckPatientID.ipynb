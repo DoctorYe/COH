{
 "cells": [
  {
   "cell_type": "code",
   "execution_count": 29,
   "metadata": {},
   "outputs": [],
   "source": [
    "import SimpleITK as sitk\n",
    "import numpy as np\n",
    "import os\n",
    "import pandas as pd\n",
    "import re"
   ]
  },
  {
   "cell_type": "code",
   "execution_count": 5,
   "metadata": {},
   "outputs": [],
   "source": [
    "ResultList=[]\n",
    "for root,folder,files in os.walk('/home2/nye/XY/ZH/RawFiles/Raw'):\n",
    "    Files=list(filter(lambda x:'nii' in x,files))\n",
    "    if Files!=[]:\n",
    "        for f in Files:\n",
    "            Result={}\n",
    "            FileName=f.split('.')[0]\n",
    "            PatientID=root.split('/')[-1]\n",
    "            Path=os.path.join(root,f)\n",
    "            Array=sitk.GetArrayFromImage(sitk.ReadImage(Path))\n",
    "            ShapeString='_'.join(np.array(Array.shape).flatten().astype(str))\n",
    "            I=int(Array.shape[0]/2)\n",
    "            ArrayUse=Array[I,:,:]\n",
    "            String='_'.join(ArrayUse.flatten().astype(str))\n",
    "            Result={'FullArrayShape':ShapeString,\n",
    "                    'SlicedArray_String':String,'SlicedArray_ID':I,\n",
    "                    'PatientID':PatientID,'FileName':FileName,'NiiPath':Path}\n",
    "            ResultList.append(Result)"
   ]
  },
  {
   "cell_type": "code",
   "execution_count": 30,
   "metadata": {},
   "outputs": [],
   "source": [
    "InformationNeed=[[\"0008|0020\",'StudyDate_0008_0020'],\n",
    "                 [\"0008|0050\",'AccessionNumber_0008_0050'],\n",
    "                 [\"0008|0070\",'Manufacturer_0008_0070'],\n",
    "                 [\"0008|103e\",'SeriesDescription_0008_103e'],\n",
    "                 [\"0018|0023\",'MRAcquisitionType_0018_0023'],\n",
    "                 [\"0018|0025\",'AngioFlag_0018_0025'],[\"0018|1314\",'FlipAngle_0018_1314'],\n",
    "                 [\"0018|0050\",'SliceThickness_0018_0050'],\n",
    "                 [\"0018|0080\",'RepetitionTime_0018_0080'],\n",
    "                 [\"0018|0081\",'EchoTime_0018_0081'],\n",
    "                 [\"0018|0082\",'InversionTime_0018_0082'],\n",
    "                 [\"0018|0084\",'ImagingFrequency_0018_0084'],\n",
    "                 [\"0018|0087\",'MagneticFieldStrength_0018_0087'],\n",
    "                 [\"0020|0011\",'SeriesNumber_0020_0011'],\n",
    "                 [\"0010|0030\",'DOB_0010_0030'],\n",
    "                 [\"0010|0040\",'Gender_0010_0040'],['0010|0020','PatientID_0010_0040'],['0028|0010','Rows_0028_0010'],\n",
    "                 ['0028|0011','Columns_0028_0011'],['0028|0030','PixelSpacing_0028_0030']]"
   ]
  },
  {
   "cell_type": "code",
   "execution_count": 50,
   "metadata": {},
   "outputs": [],
   "source": [
    "\n",
    "ResultList=[]\n",
    "CheckList=[]\n",
    "for root,folder,files in os.walk('/Volumes/G-DRIVE Thunderbolt 3/ZH/RawDicom'):\n",
    "    \n",
    "    Files=list(filter(lambda x:'dcm' in x and 'Error' not in x, files))\n",
    "    if Files!=[] and len(Files)>3:\n",
    "        NeedCheck={}\n",
    "        Result={}\n",
    "        try:\n",
    "            reader = sitk.ImageSeriesReader()\n",
    "            series_found = reader.GetGDCMSeriesIDs(root)\n",
    "            if len(series_found):\n",
    "                ImageList=[]\n",
    "                for serie in series_found:\n",
    "                    dicom_names = reader.GetGDCMSeriesFileNames(root, serie)\n",
    "                    reader.SetFileNames(dicom_names)\n",
    "                    image = reader.Execute()\n",
    "                    ImageList.append((image,dicom_names))\n",
    "            for image,dicom_names in ImageList:\n",
    "                Array=sitk.GetArrayFromImage(image)\n",
    "                ShapeString='_'.join(np.array(Array.shape).flatten().astype(str))\n",
    "                I=int(Array.shape[0]/2)\n",
    "                ArrayUse=Array[I,:,:]\n",
    "                String='_'.join(ArrayUse.flatten().astype('str'))\n",
    "                Result.update({'FullArrayShape':ShapeString,\n",
    "                               'SlicedArray_String':String,'SlicedArray_ID':I,\n",
    "                               'DicomFileList':dicom_names,'DicomPathRoot':root})\n",
    "\n",
    "                Dicom1=sitk.ReadImage(dicom_names[0])\n",
    "                for HeadID,tag in InformationNeed:\n",
    "                    try:\n",
    "                        Result.update({tag:Dicom1.GetMetaData(HeadID)})\n",
    "                    except:\n",
    "                        pass\n",
    "        \n",
    "        except Exception as e:\n",
    "            NeedCheck.update({'DicomPathRoot':root,'Error':e})\n",
    "        CheckList.append(NeedCheck)\n",
    "        ResultList.append(Result)\n",
    "# DicomDf=pd.DataFrame(dict(enumerate(ResultList))).T        "
   ]
  },
  {
   "cell_type": "code",
   "execution_count": 51,
   "metadata": {},
   "outputs": [],
   "source": [
    "NeedCheckDf=pd.DataFrame(dict(enumerate(list(filter(lambda x:x!={},CheckList))))).T\n",
    "\n",
    "DicomDf=pd.DataFrame(dict(enumerate(list(filter(lambda x:x!={},ResultList))))).T"
   ]
  },
  {
   "cell_type": "code",
   "execution_count": 39,
   "metadata": {},
   "outputs": [],
   "source": [
    "CheckList=[]\n",
    "for i in NeedCheckDf.index:\n",
    "    root=NeedCheckDf.DicomPathRoot[i]\n",
    "    try:\n",
    "        reader = sitk.ImageSeriesReader()\n",
    "        series_found = reader.GetGDCMSeriesIDs(root)\n",
    "\n",
    "        for serie in series_found:\n",
    "            dicom_names = reader.GetGDCMSeriesFileNames(root, serie)\n",
    "            reader.SetFileNames(dicom_names)\n",
    "            image = reader.Execute()\n",
    "\n",
    "        reader.SetFileNames(dicom_names)\n",
    "    except Exception as e:\n",
    "        NeedCheck.update({'DicomPathRoot':root,'Error':e})\n",
    "    CheckList.append(NeedCheck)\n",
    "pd.DataFrame(dict(enumerate(CheckList))).T.to_excel('E:/yingxiangzuxue/new/NeedCheckDf.xlsx')"
   ]
  },
  {
   "cell_type": "code",
   "execution_count": null,
   "metadata": {},
   "outputs": [],
   "source": []
  }
 ],
 "metadata": {
  "kernelspec": {
   "display_name": "Python 3",
   "language": "python",
   "name": "python3"
  },
  "language_info": {
   "codemirror_mode": {
    "name": "ipython",
    "version": 3
   },
   "file_extension": ".py",
   "mimetype": "text/x-python",
   "name": "python",
   "nbconvert_exporter": "python",
   "pygments_lexer": "ipython3",
   "version": "3.6.4"
  }
 },
 "nbformat": 4,
 "nbformat_minor": 2
}
