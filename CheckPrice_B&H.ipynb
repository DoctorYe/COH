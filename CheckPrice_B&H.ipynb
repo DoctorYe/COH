{
 "cells": [
  {
   "cell_type": "code",
   "execution_count": null,
   "metadata": {},
   "outputs": [],
   "source": []
  },
  {
   "cell_type": "code",
   "execution_count": 28,
   "metadata": {},
   "outputs": [],
   "source": [
    "# !pip install schedule\n",
    "import schedule\n",
    "import time\n",
    "import smtplib\n",
    "import re\n",
    "from six.moves import urllib\n",
    "\n",
    "\n",
    "def sendemail(from_addr,  password,login=None,\n",
    "              subject='Hello', message='Hello',\n",
    "              to_addr_list=None,\n",
    "              smtpserver='smtp.gmail.com:587'):\n",
    "    header  = 'From: %s' % from_addr\n",
    "    if to_addr_list==None:\n",
    "        to_addr_list=[from_addr]\n",
    "    else:\n",
    "        if type(to_addr_list)!=list:\n",
    "            raise Exception('to_addr_list should be list')\n",
    "    header += 'To: %s' % ','.join(to_addr_list)\n",
    "    header += 'Subject: %s' % subject\n",
    "    message = header + message\n",
    " \n",
    "    server = smtplib.SMTP(smtpserver)\n",
    "    server.starttls()\n",
    "    if login==None:\n",
    "        login=from_addr.split('@')[0]\n",
    "    server.login(login,password)\n",
    "    problems = server.sendmail(from_addr, to_addr_list, message)\n",
    "    server.quit()\n",
    "\n",
    "\n",
    "class PriceTracker_BH():\n",
    "    def fit(self,RawPrice,Email,password,\n",
    "            Product=('WD121KRYZ','WD 12TB Gold 7200 rpm SATA III 3.5\" Internal Datacenter HDD'),\n",
    "            WebKeyWord_Price='<div class=\"prices\" data-selenium=\"prices\">.*?<span class=\"itc-you-pay-price bold\">.*?([\\d\\.]+).*?</span>'):\n",
    "        self.RawPrice=RawPrice\n",
    "        self.Email=Email\n",
    "        self.password=password\n",
    "#         self.Intervertion=CheckIntervention\n",
    "        self.ProductID=Product[0]\n",
    "        self.ProductName=Product[1]\n",
    "        self.PriceRe=WebKeyWord_Price\n",
    "    def GetPrice(self):\n",
    "#         try:\n",
    "#             print(ProductID,ProductName,PriceRe)\n",
    "#         except:\n",
    "        ProductID,ProductName,PriceRe=self.ProductID,self.ProductName,self.PriceRe\n",
    "#             print(ProductID,ProductName,PriceRe)\n",
    "        self.Url='https://www.bhphotovideo.com/c/search?Ntt=%s&N=0&InitialSearch=yes&sts=ma&Top+Nav-Search=' % ProductID\n",
    "        Web=urllib.request.urlopen(self.Url)\n",
    "        self.Source=Web.read()\n",
    "        temp=re.sub('\\n|\\t','',self.Source.split(ProductName)[-1])\n",
    "        self.NewPrice=float(re.search(PriceRe,temp).group(1))\n",
    "    \n",
    "    def ComparePrice(self):\n",
    "        if self.NewPrice<self.RawPrice:\n",
    "            Subject=\"%s's price change from %f to %f\" %(self.ProductName,float(self.RawPrice),self.NewPrice)\n",
    "            sendemail(from_addr=self.Email,password=self.password,subject=Subject,message=Subject)\n",
    "#             print Subject\n",
    "        \n",
    "    def run(self):\n",
    "        self.GetPrice()\n",
    "        self.ComparePrice()\n",
    "    def main(self):\n",
    "        schedule.every().day.at(\"08:00\").do(self.run)\n",
    "\n",
    "        while True:\n",
    "            schedule.run_pending()\n",
    "            time.sleep(60) # wait one minute\n"
   ]
  },
  {
   "cell_type": "code",
   "execution_count": 29,
   "metadata": {},
   "outputs": [],
   "source": [
    "a=PriceTracker_BH()"
   ]
  },
  {
   "cell_type": "code",
   "execution_count": 30,
   "metadata": {},
   "outputs": [],
   "source": [
    "a.fit(Email='111',password='111',RawPrice=10000)"
   ]
  },
  {
   "cell_type": "code",
   "execution_count": 31,
   "metadata": {},
   "outputs": [
    {
     "name": "stdout",
     "output_type": "stream",
     "text": [
      "WD 12TB Gold 7200 rpm SATA III 3.5\" Internal Datacenter HDD's price change from 10000.000000 to 469.990000\n"
     ]
    }
   ],
   "source": [
    "a.run()"
   ]
  },
  {
   "cell_type": "code",
   "execution_count": null,
   "metadata": {},
   "outputs": [],
   "source": []
  }
 ],
 "metadata": {
  "kernelspec": {
   "display_name": "Python 2",
   "language": "python",
   "name": "python2"
  },
  "language_info": {
   "codemirror_mode": {
    "name": "ipython",
    "version": 2
   },
   "file_extension": ".py",
   "mimetype": "text/x-python",
   "name": "python",
   "nbconvert_exporter": "python",
   "pygments_lexer": "ipython2",
   "version": "2.7.14"
  }
 },
 "nbformat": 4,
 "nbformat_minor": 2
}
