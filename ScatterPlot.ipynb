{
 "cells": [
  {
   "cell_type": "code",
   "execution_count": 16,
   "metadata": {},
   "outputs": [],
   "source": [
    "import pandas as pd\n",
    "Df=pd.read_excel('./Test_20190707.xlsx')"
   ]
  },
  {
   "cell_type": "code",
   "execution_count": 13,
   "metadata": {},
   "outputs": [
    {
     "data": {
      "text/html": [
       "<div>\n",
       "<style scoped>\n",
       "    .dataframe tbody tr th:only-of-type {\n",
       "        vertical-align: middle;\n",
       "    }\n",
       "\n",
       "    .dataframe tbody tr th {\n",
       "        vertical-align: top;\n",
       "    }\n",
       "\n",
       "    .dataframe thead th {\n",
       "        text-align: right;\n",
       "    }\n",
       "</style>\n",
       "<table border=\"1\" class=\"dataframe\">\n",
       "  <thead>\n",
       "    <tr style=\"text-align: right;\">\n",
       "      <th></th>\n",
       "      <th>pos</th>\n",
       "      <th>ratio</th>\n",
       "      <th>pep.pos</th>\n",
       "      <th>CS(Neg.med)</th>\n",
       "      <th>ratio_sg</th>\n",
       "      <th>Pvalue_sg</th>\n",
       "      <th>pos_sg</th>\n",
       "      <th>CS(Neg.med)_sg</th>\n",
       "    </tr>\n",
       "  </thead>\n",
       "  <tbody>\n",
       "    <tr>\n",
       "      <th>0</th>\n",
       "      <td>6.0</td>\n",
       "      <td>-0.710155</td>\n",
       "      <td>2</td>\n",
       "      <td>0.060853</td>\n",
       "      <td>-0.611689</td>\n",
       "      <td>0.036385</td>\n",
       "      <td>6.0</td>\n",
       "      <td>0.012278</td>\n",
       "    </tr>\n",
       "    <tr>\n",
       "      <th>1</th>\n",
       "      <td>8.0</td>\n",
       "      <td>-0.709190</td>\n",
       "      <td>3</td>\n",
       "      <td>NaN</td>\n",
       "      <td>-0.639023</td>\n",
       "      <td>0.090993</td>\n",
       "      <td>11.0</td>\n",
       "      <td>NaN</td>\n",
       "    </tr>\n",
       "    <tr>\n",
       "      <th>2</th>\n",
       "      <td>11.0</td>\n",
       "      <td>-0.707043</td>\n",
       "      <td>4</td>\n",
       "      <td>NaN</td>\n",
       "      <td>-0.739200</td>\n",
       "      <td>0.000957</td>\n",
       "      <td>12.0</td>\n",
       "      <td>NaN</td>\n",
       "    </tr>\n",
       "    <tr>\n",
       "      <th>3</th>\n",
       "      <td>14.0</td>\n",
       "      <td>-0.703956</td>\n",
       "      <td>5</td>\n",
       "      <td>NaN</td>\n",
       "      <td>-0.860502</td>\n",
       "      <td>0.001779</td>\n",
       "      <td>12.0</td>\n",
       "      <td>NaN</td>\n",
       "    </tr>\n",
       "    <tr>\n",
       "      <th>4</th>\n",
       "      <td>17.0</td>\n",
       "      <td>-0.699914</td>\n",
       "      <td>6</td>\n",
       "      <td>NaN</td>\n",
       "      <td>-0.801786</td>\n",
       "      <td>0.004635</td>\n",
       "      <td>13.0</td>\n",
       "      <td>NaN</td>\n",
       "    </tr>\n",
       "  </tbody>\n",
       "</table>\n",
       "</div>"
      ],
      "text/plain": [
       "    pos     ratio  pep.pos  CS(Neg.med)  ratio_sg  Pvalue_sg  pos_sg  \\\n",
       "0   6.0 -0.710155        2     0.060853 -0.611689   0.036385     6.0   \n",
       "1   8.0 -0.709190        3          NaN -0.639023   0.090993    11.0   \n",
       "2  11.0 -0.707043        4          NaN -0.739200   0.000957    12.0   \n",
       "3  14.0 -0.703956        5          NaN -0.860502   0.001779    12.0   \n",
       "4  17.0 -0.699914        6          NaN -0.801786   0.004635    13.0   \n",
       "\n",
       "   CS(Neg.med)_sg  \n",
       "0        0.012278  \n",
       "1             NaN  \n",
       "2             NaN  \n",
       "3             NaN  \n",
       "4             NaN  "
      ]
     },
     "execution_count": 13,
     "metadata": {},
     "output_type": "execute_result"
    }
   ],
   "source": [
    "Df.head()"
   ]
  },
  {
   "cell_type": "code",
   "execution_count": 42,
   "metadata": {},
   "outputs": [
    {
     "data": {
      "text/html": [
       "<div>\n",
       "<style scoped>\n",
       "    .dataframe tbody tr th:only-of-type {\n",
       "        vertical-align: middle;\n",
       "    }\n",
       "\n",
       "    .dataframe tbody tr th {\n",
       "        vertical-align: top;\n",
       "    }\n",
       "\n",
       "    .dataframe thead th {\n",
       "        text-align: right;\n",
       "    }\n",
       "</style>\n",
       "<table border=\"1\" class=\"dataframe\">\n",
       "  <thead>\n",
       "    <tr style=\"text-align: right;\">\n",
       "      <th></th>\n",
       "      <th>pos</th>\n",
       "      <th>ratio</th>\n",
       "      <th>pep.pos</th>\n",
       "      <th>CS(Neg.med)</th>\n",
       "      <th>ratio_sg</th>\n",
       "      <th>Pvalue_sg</th>\n",
       "      <th>pos_sg</th>\n",
       "      <th>CS(Neg.med)_sg</th>\n",
       "      <th>pep.pos_sg</th>\n",
       "      <th>ratio_use</th>\n",
       "      <th>ratio_sg_use</th>\n",
       "    </tr>\n",
       "  </thead>\n",
       "  <tbody>\n",
       "  </tbody>\n",
       "</table>\n",
       "</div>"
      ],
      "text/plain": [
       "Empty DataFrame\n",
       "Columns: [pos, ratio, pep.pos, CS(Neg.med), ratio_sg, Pvalue_sg, pos_sg, CS(Neg.med)_sg, pep.pos_sg, ratio_use, ratio_sg_use]\n",
       "Index: []"
      ]
     },
     "execution_count": 42,
     "metadata": {},
     "output_type": "execute_result"
    }
   ],
   "source": [
    "Df.loc[Df.pos.isna()]"
   ]
  },
  {
   "cell_type": "code",
   "execution_count": 17,
   "metadata": {},
   "outputs": [],
   "source": [
    "Df.loc[:,'pep.pos_sg']=Df.pos_sg/3\n",
    "Df.loc[:,'ratio_use']=Df.ratio-Df.iloc[0,3]\n",
    "Df.loc[:,'ratio_sg_use']=Df.ratio_sg-Df.iloc[0,7]"
   ]
  },
  {
   "cell_type": "code",
   "execution_count": 19,
   "metadata": {},
   "outputs": [
    {
     "data": {
      "text/html": [
       "<div>\n",
       "<style scoped>\n",
       "    .dataframe tbody tr th:only-of-type {\n",
       "        vertical-align: middle;\n",
       "    }\n",
       "\n",
       "    .dataframe tbody tr th {\n",
       "        vertical-align: top;\n",
       "    }\n",
       "\n",
       "    .dataframe thead th {\n",
       "        text-align: right;\n",
       "    }\n",
       "</style>\n",
       "<table border=\"1\" class=\"dataframe\">\n",
       "  <thead>\n",
       "    <tr style=\"text-align: right;\">\n",
       "      <th></th>\n",
       "      <th>pos</th>\n",
       "      <th>ratio</th>\n",
       "      <th>pep.pos</th>\n",
       "      <th>CS(Neg.med)</th>\n",
       "      <th>ratio_sg</th>\n",
       "      <th>Pvalue_sg</th>\n",
       "      <th>pos_sg</th>\n",
       "      <th>CS(Neg.med)_sg</th>\n",
       "      <th>pep.pos_sg</th>\n",
       "      <th>ratio_use</th>\n",
       "      <th>ratio_sg_use</th>\n",
       "    </tr>\n",
       "  </thead>\n",
       "  <tbody>\n",
       "    <tr>\n",
       "      <th>0</th>\n",
       "      <td>6.0</td>\n",
       "      <td>-0.710155</td>\n",
       "      <td>2</td>\n",
       "      <td>0.060853</td>\n",
       "      <td>-0.611689</td>\n",
       "      <td>0.036385</td>\n",
       "      <td>6.0</td>\n",
       "      <td>0.012278</td>\n",
       "      <td>2.000000</td>\n",
       "      <td>-0.771008</td>\n",
       "      <td>-0.623967</td>\n",
       "    </tr>\n",
       "    <tr>\n",
       "      <th>1</th>\n",
       "      <td>8.0</td>\n",
       "      <td>-0.709190</td>\n",
       "      <td>3</td>\n",
       "      <td>NaN</td>\n",
       "      <td>-0.639023</td>\n",
       "      <td>0.090993</td>\n",
       "      <td>11.0</td>\n",
       "      <td>NaN</td>\n",
       "      <td>3.666667</td>\n",
       "      <td>-0.770043</td>\n",
       "      <td>-0.651301</td>\n",
       "    </tr>\n",
       "    <tr>\n",
       "      <th>2</th>\n",
       "      <td>11.0</td>\n",
       "      <td>-0.707043</td>\n",
       "      <td>4</td>\n",
       "      <td>NaN</td>\n",
       "      <td>-0.739200</td>\n",
       "      <td>0.000957</td>\n",
       "      <td>12.0</td>\n",
       "      <td>NaN</td>\n",
       "      <td>4.000000</td>\n",
       "      <td>-0.767896</td>\n",
       "      <td>-0.751478</td>\n",
       "    </tr>\n",
       "    <tr>\n",
       "      <th>3</th>\n",
       "      <td>14.0</td>\n",
       "      <td>-0.703956</td>\n",
       "      <td>5</td>\n",
       "      <td>NaN</td>\n",
       "      <td>-0.860502</td>\n",
       "      <td>0.001779</td>\n",
       "      <td>12.0</td>\n",
       "      <td>NaN</td>\n",
       "      <td>4.000000</td>\n",
       "      <td>-0.764809</td>\n",
       "      <td>-0.872779</td>\n",
       "    </tr>\n",
       "    <tr>\n",
       "      <th>4</th>\n",
       "      <td>17.0</td>\n",
       "      <td>-0.699914</td>\n",
       "      <td>6</td>\n",
       "      <td>NaN</td>\n",
       "      <td>-0.801786</td>\n",
       "      <td>0.004635</td>\n",
       "      <td>13.0</td>\n",
       "      <td>NaN</td>\n",
       "      <td>4.333333</td>\n",
       "      <td>-0.760767</td>\n",
       "      <td>-0.814064</td>\n",
       "    </tr>\n",
       "  </tbody>\n",
       "</table>\n",
       "</div>"
      ],
      "text/plain": [
       "    pos     ratio  pep.pos  CS(Neg.med)  ratio_sg  Pvalue_sg  pos_sg  \\\n",
       "0   6.0 -0.710155        2     0.060853 -0.611689   0.036385     6.0   \n",
       "1   8.0 -0.709190        3          NaN -0.639023   0.090993    11.0   \n",
       "2  11.0 -0.707043        4          NaN -0.739200   0.000957    12.0   \n",
       "3  14.0 -0.703956        5          NaN -0.860502   0.001779    12.0   \n",
       "4  17.0 -0.699914        6          NaN -0.801786   0.004635    13.0   \n",
       "\n",
       "   CS(Neg.med)_sg  pep.pos_sg  ratio_use  ratio_sg_use  \n",
       "0        0.012278    2.000000  -0.771008     -0.623967  \n",
       "1             NaN    3.666667  -0.770043     -0.651301  \n",
       "2             NaN    4.000000  -0.767896     -0.751478  \n",
       "3             NaN    4.000000  -0.764809     -0.872779  \n",
       "4             NaN    4.333333  -0.760767     -0.814064  "
      ]
     },
     "execution_count": 19,
     "metadata": {},
     "output_type": "execute_result"
    }
   ],
   "source": [
    "Df.head()"
   ]
  },
  {
   "cell_type": "code",
   "execution_count": 35,
   "metadata": {},
   "outputs": [
    {
     "data": {
      "text/plain": [
       "array([ True])"
      ]
     },
     "execution_count": 35,
     "metadata": {},
     "output_type": "execute_result"
    }
   ],
   "source": [
    "np.where(a==a.max())[0]-1<=1-1"
   ]
  },
  {
   "cell_type": "code",
   "execution_count": 29,
   "metadata": {},
   "outputs": [
    {
     "data": {
      "text/plain": [
       "array([2, 4, 1, 0])"
      ]
     },
     "execution_count": 29,
     "metadata": {},
     "output_type": "execute_result"
    }
   ],
   "source": [
    "a"
   ]
  },
  {
   "cell_type": "code",
   "execution_count": 30,
   "metadata": {},
   "outputs": [
    {
     "data": {
      "text/plain": [
       "4"
      ]
     },
     "execution_count": 30,
     "metadata": {},
     "output_type": "execute_result"
    }
   ],
   "source": [
    "a.max()"
   ]
  },
  {
   "cell_type": "code",
   "execution_count": null,
   "metadata": {},
   "outputs": [],
   "source": []
  },
  {
   "cell_type": "code",
   "execution_count": 51,
   "metadata": {},
   "outputs": [],
   "source": [
    "import seaborn as sns\n",
    "import matplotlib.pyplot as plt\n",
    "import numpy as np\n",
    "def NearestValues(x,R_Right,R_Left,Range=5):\n",
    "    \n",
    "    x_a=np.array(x)\n",
    "    x_au=x_a[(x_a>=R_Left)& (x_a<=R_Right)]\n",
    "    RawMin=x_au.min()\n",
    "    RawMax=x_au.max()\n",
    "    x_as=np.sort(x_a)\n",
    "    if RawMin-R_Left>=5:\n",
    "        I1=np.where(x_as==RawMin)[0][0]-1\n",
    "        if I1>=0:\n",
    "            R_Left=x_as[I1]\n",
    "            \n",
    "    if R_Right-RawMax>=5:\n",
    "        I2=np.where(x_as==RawMax)[0][0]+1\n",
    "        if I2<=len(x)-1:\n",
    "            R_Right=x_as[I2]\n",
    "    x_iu=np.where((x_a>=R_Left)& (x_a<=R_Right))\n",
    "    return x_iu\n",
    "        \n",
    "def BreakXaxis(x1,x2,y1,y2,xrange1,xrange2,SavePNG_Path='./ScatterPlot.png',EdgeRange=5):\n",
    "    \n",
    "    f,(ax,ax2) = plt.subplots(1,2,sharey=True, facecolor='w',\n",
    "                              figsize=(20,10),\n",
    "                              gridspec_kw={'width_ratios': [len(range(*xrange1)),\n",
    "                                                            len(range(*xrange2))]})\n",
    "#     print(xrange1,xrange2)\n",
    "    x1_i1=NearestValues(x1,R_Right=xrange1[1],R_Left=xrange1[0],Range=EdgeRange)\n",
    "    x1_i2=NearestValues(x1,R_Right=xrange2[1],R_Left=xrange2[0],Range=EdgeRange)\n",
    "#     print(xrange1,xrange2)\n",
    "    #x1_r1,y1_r1=zip(*[(x,y) for x,y in zip(x1,y1) if (xrange1[0]-5<=x) and (x<=xrange1[1])])# \n",
    "    #x1_r2,y1_r2=zip(*[(x,y) for x,y in zip(x1,y1) if (xrange2[0]<=x) and (x<=xrange2[1])])\n",
    "    sns.regplot(x=np.array(x1)[x1_i1], \n",
    "                y=np.array(y1)[x1_i1],\n",
    "                ax=ax,color='red')\n",
    "#     ax.scatter(x=x1, y=y1)\n",
    "    ax.scatter(x=x2, y=y2)\n",
    "#     ax2.scatter(x=x1, y=y1)\n",
    "    sns.regplot(x=np.array(x1)[x1_i2], \n",
    "                y=np.array(y1)[x1_i2],\n",
    "                ax=ax2,color='red')\n",
    "    ax2.scatter(x=x2, y=y2)\n",
    "    \n",
    "    ax.set_xlim(*xrange1)\n",
    "    ax2.set_xlim(*xrange2)\n",
    "\n",
    "    # hide the spines between ax and ax2\n",
    "    ax.spines['right'].set_visible(False)\n",
    "    ax2.spines['left'].set_visible(False)\n",
    "    ax.yaxis.tick_left()\n",
    "    ax.tick_params(labelright=False)\n",
    "    ax2.yaxis.tick_right()\n",
    "    d = .015 # how big to make the diagonal lines in axes coordinates\n",
    "    # arguments to pass plot, just so we don't keep repeating them\n",
    "    kwargs = dict(transform=ax.transAxes, color='k', clip_on=False)\n",
    "    ax.plot((1-d,1+d), (-d,+d), **kwargs)\n",
    "    ax.plot((1-d,1+d),(1-d,1+d), **kwargs)\n",
    "\n",
    "    kwargs.update(transform=ax2.transAxes)  # switch to the bottom axes\n",
    "    ax2.plot((-d,+d), (1-d,1+d), **kwargs)\n",
    "    ax2.plot((-d,+d), (-d,+d), **kwargs)\n",
    "\n",
    "    # What's cool about this is that now if we vary the distance between\n",
    "    # ax and ax2 via f.subplots_adjust(hspace=...) or plt.subplot_tool(),\n",
    "    # the diagonal lines will move accordingly, and stay right at the tips\n",
    "    # of the spines they are 'breaking'\n",
    "    plt.savefig(SavePNG_Path)\n",
    "    plt.show()\n"
   ]
  },
  {
   "cell_type": "code",
   "execution_count": 52,
   "metadata": {},
   "outputs": [
    {
     "data": {
      "image/png": "[encoded data removed]",
      "text/plain": [
       "<matplotlib.figure.Figure at 0x10a5bc9e8>"
      ]
     },
     "metadata": {},
     "output_type": "display_data"
    }
   ],
   "source": [
    "BreakXaxis(x1=Df.loc[~Df.loc[:,\"pep.pos_sg\"].isna(),\"pep.pos_sg\"],x2=Df.loc[:,\"pep.pos\"],\n",
    "           y1=Df.loc[~Df.loc[:,\"ratio_sg_use\"].isna(),\"ratio_sg_use\"],y2=Df.loc[:,\"ratio_use\"],\n",
    "           xrange1=(19,141),xrange2=(290,323),EdgeRange=5,\n",
    "           SavePNG_Path='./ScatterPlot.png')"
   ]
  },
  {
   "cell_type": "code",
   "execution_count": null,
   "metadata": {},
   "outputs": [],
   "source": []
  }
 ],
 "metadata": {
  "kernelspec": {
   "display_name": "Python 3",
   "language": "python",
   "name": "python3"
  },
  "language_info": {
   "codemirror_mode": {
    "name": "ipython",
    "version": 3
   },
   "file_extension": ".py",
   "mimetype": "text/x-python",
   "name": "python",
   "nbconvert_exporter": "python",
   "pygments_lexer": "ipython3",
   "version": "3.6.4"
  }
 },
 "nbformat": 4,
 "nbformat_minor": 2
}
