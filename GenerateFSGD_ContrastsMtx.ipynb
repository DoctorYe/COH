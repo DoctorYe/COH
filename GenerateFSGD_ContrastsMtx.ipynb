{
 "cells": [
  {
   "cell_type": "code",
   "execution_count": 217,
   "metadata": {
    "collapsed": true
   },
   "outputs": [],
   "source": [
    "from itertools import product,combinations\n",
    "import re\n",
    "import pandas as pd\n",
    "class GLM_prepare():\n",
    "    \n",
    "    def fit(self,Df,SubjectCol,Title='Haha',ClassColList=None,VariableColList=None,ResultPath='./FSGD_freesurfer.fsgd',Regressors='DODS'):\n",
    "        '''\n",
    "        SubCol the file name in $SUBJECT_DIR\n",
    "        \n",
    "        Regressors please check: https://surfer.nmr.mgh.harvard.edu/fswiki/DodsDoss\n",
    "        DODS with interaction between class and variable\n",
    "            example:\n",
    "                Regressor1: ones for subjects in Group 1, 0 otherwise. Codes intercept/mean for Group 1 \n",
    "                Regressor2: ones for subjects in Group 2, 0 otherwise. Codes intercept/mean for Group 2 \n",
    "                Regressor3: age for subjects in Group 1, 0 otherwise. Codes age slope for Group 1 \n",
    "                Regressor4: age for subjects in Group 2, 0 otherwise. Codes age slope for Group 2 \n",
    "                Regressor5: weight for subjects in Group 1, 0 otherwise. Codes weight slope for Group 1 \n",
    "                Regressor6: weight for subjects in Group 2, 0 otherwise. Codes weight slope for Group 2 \n",
    "        DODS without interaction\n",
    "            example:\n",
    "                Regressor1: ones for subjects in Group 1, 0 otherwise. Codes intercept/mean for Group 1 \n",
    "                Regressor2: ones for subjects in Group 2, 0 otherwise. Codes intercept/mean for Group 2\n",
    "                Regressor3: age for each subject, 0 otherwise. Codes age slope for all subjects. \n",
    "                Regressor4: weight for each subject, 0 otherwise. Codes weight slope for all subjects. \n",
    "        '''\n",
    "        self.Df=Df\n",
    "        self.SubCol=SubjectCol\n",
    "        self.ClassCol=ClassColList\n",
    "        self.VariableCol=VariableColList\n",
    "        self.ResultPath=ResultPath\n",
    "        self.Regressors=Regressors\n",
    "        self.VariableList=None\n",
    "        self.Title=Title\n",
    "    def Df2FSGD(self):\n",
    "        with open(self.ResultPath,'w') as result:\n",
    "            result.write('GroupDescriptorFile 1\\n')\n",
    "            result.write('Title '+self.Title+'\\n')\n",
    "            if self.ClassCol!=None:\n",
    "                self.Df.loc[:,'Class']=self.Df.loc[:,self.ClassCol].apply(axis=1,\n",
    "                                                                          func=lambda x: \n",
    "                                                                          '-'.join('.'.join(g) for g in zip(self.ClassCol,[str(i) for i in x])))\n",
    "                self.ClassList=list(set(self.Df['Class']))\n",
    "                for c in set(self.Df['Class']):\n",
    "                    result.write('Class '+c+'\\n')\n",
    "            else:\n",
    "                self.Df.loc[:,'Class']='Main'\n",
    "                self.ClassList=['Main']\n",
    "                result.write('Class Main\\n')\n",
    "            \n",
    "            if self.VariableCol!=None:\n",
    "                result.write(' '.join(['Variables']+self.VariableCol)+'\\n')\n",
    "                self.VariableList=self.VariableCol\n",
    "                for i in self.Df.index:\n",
    "                    result.write(' '.join(['Input']+\n",
    "                                          list(self.Df.loc[i,[self.SubCol,'Class']+\n",
    "                                                                     self.VariableCol].astype(str)))+'\\n')\n",
    "            else:\n",
    "                for i in self.Df.index:\n",
    "                    result.write(' '.join(['Input']+\n",
    "                                          list(self.Df.loc[i,[self.SubCol,'Class']].astype(str)))+'\\n')\n",
    "        with open(self.ResultPath,'r') as result:\n",
    "            self.FSGD=result.read()\n",
    "            \n",
    "            if self.VariableList!=None:\n",
    "                if self.Regressors=='DODS':\n",
    "                    self.ContinuousCovs=['_'.join([x,y]) for x,y in product(self.VariableList,self.ClassList)]\n",
    "                    self.RegressorList=self.ClassList+self.ContinuousCovs\n",
    "                elif self.Regressors=='DOSS':\n",
    "                    self.ContinuousCovs=self.VariableList\n",
    "                    self.RegressorList=self.ClassList+self.VariableList\n",
    "            else:\n",
    "                self.RegressorList=self.ClassList\n",
    "    def findlevel(self,sign,classname):\n",
    "        try:\n",
    "            result=re.search(sign+'\\.(\\w+)',classname).group(1)\n",
    "            return '.'.join([sign,result])\n",
    "        except:\n",
    "            pass\n",
    "            \n",
    "    def BuildContrastMatrix(self,SimpleVersion=False):\n",
    "        \"\"\"SimpleVersion remove the subgroup effect of such as FemaleGroup1, femaleGroup2,maleGroup1, maleGroup2\"\"\"\n",
    "        ColumnList=self.RegressorList\n",
    "        Groups=self.ClassList\n",
    "        # Groups(subgroups) contain FemaleGroup1, femaleGroup2, maleGroup1, maleGroup2\n",
    "        if self.VariableList!=None:\n",
    "            ContinuousCovs=self.ContinuousCovs\n",
    "            ContinuousCovSigns=self.VariableList\n",
    "        else:\n",
    "            ContinuousCovs,ContinuousCovSigns=None,None\n",
    "        # FemaleGroup1age,femaleGroup2Age....\n",
    "        #ColumnList=Groups+ContinuousCovs\n",
    "        if self.ClassCol!=None:\n",
    "            GroupSigns=self.ClassCol\n",
    "        else:\n",
    "            GroupSigns=self.ClassList\n",
    "\n",
    "        # merge subgroup: gender vs Female, male \n",
    "        # groupsign=gender\n",
    "        # GroupLevels=Female, male\n",
    "        \n",
    "        # age \n",
    "        Result={}\n",
    "\n",
    "        # group effect\n",
    "        for Id,i,iS in [('Group',Groups,GroupSigns),('Cove',ContinuousCovs,ContinuousCovSigns)]:\n",
    "            if i==None or iS==None:\n",
    "                pass\n",
    "            else:\n",
    "                for s in iS:\n",
    "                    Grouped=filter(lambda x: s in x, i)\n",
    "                # group effect\n",
    "                    Result[s+'_Effect']=dict(zip(ColumnList,\n",
    "                                         [int(any([G==c for G in Grouped]))/float(len(Grouped)) for c in ColumnList ]))\n",
    "                if SimpleVersion:\n",
    "                    if Id=='Cove':\n",
    "                        for g in i:\n",
    "                            Result[g+'_Effect']=dict(zip(ColumnList,[int(c==g) for c in ColumnList]))\n",
    "                else:\n",
    "                    for g in i:\n",
    "                        Result[g+'_Effect']=dict(zip(ColumnList,[int(c==g) for c in ColumnList]))\n",
    "                if Id=='Group':\n",
    "                    # interact within group\n",
    "                    for Sign in iS:\n",
    "                        GroupLevels=set([self.findlevel(sign=Sign,classname=g) for g in i if Sign in g])\n",
    "                        #print GroupLevels\n",
    "                        for X,Y in combinations(GroupLevels,2):\n",
    "                            list1=[int(X in c) for c in i]\n",
    "                            list2=[-int(Y in c) for c in i]\n",
    "                            listUse1=map(lambda x:sum(x)/float(sum(list1)),zip(list1,list2))+[0]*len(ContinuousCovs)\n",
    "                            Result['-'.join([X,Y])]=dict(zip(ColumnList,listUse1))\n",
    "                            # covariant effect within interacted group\n",
    "                            if self.Regressors=='DODS':\n",
    "                                for CoS in ContinuousCovSigns:\n",
    "                                    list3=[int(all([(X in c),(CoS in c)])) for c in ContinuousCovs]\n",
    "                                    list4=[-int(all([(Y in c),(CoS in c)])) for c in ContinuousCovs]\n",
    "                                    listUse2=[0]*len(i)+map(lambda x:sum(x)/float(sum(list3)),zip(list3,list4))\n",
    "                                Result['-'.join([X,Y])+'_'+CoS+'.SlopeChanging']=dict(zip(ColumnList,listUse2))\n",
    "                            elif self.Regressors=='DOSS':\n",
    "                                pass\n",
    "                    # subgroup effect\n",
    "                \n",
    "                \n",
    "        ContrastMatrix_pre=pd.DataFrame(Result).T\n",
    "        temp={s:i for i,s in enumerate(list(ContrastMatrix_pre.columns))}\n",
    "        Ordered=[temp[i] for i in aa.RegressorList]\n",
    "        self.ContrastMatrix=ContrastMatrix_pre.iloc[:,Ordered]\n",
    "    def BuildDesignMatrix(self,PatientList_WithOrder):\n",
    "        from scipy import stats\n",
    "        DfWithClass=self.Df\n",
    "        ID=self.SubCol\n",
    "        GroupedColumn='Class'\n",
    "        Groups=self.ClassList\n",
    "        if self.VariableList!=None:\n",
    "                ContinuousCovs=self.ContinuousCovs\n",
    "                ContinuousCovSigns=self.VariableList\n",
    "        DfWithClass.loc[:,'Value']=1\n",
    "        for C in ContinuousCovSigns:\n",
    "            DfWithClass.loc[:,C+'_Zscore']=stats.zscore(DfWithClass.loc[:,C])\n",
    "        tempD={}\n",
    "\n",
    "        for i in ['Value']+ContinuousCovSigns:\n",
    "            if i=='Value':\n",
    "                tempD[i]=DfWithClass.loc[:,[ID,GroupedColumn,i]].set_index([ID,GroupedColumn]).unstack().reset_index()\n",
    "                tempD[i].columns=[tempD[i].columns.levels[0][1]]+list(tempD[i].columns.levels[1][:-1])\n",
    "            else:\n",
    "                i_use=i+'_Zscore'\n",
    "                tempD[i]=DfWithClass.loc[:,[ID,GroupedColumn,i_use]].set_index([ID,GroupedColumn]).unstack().reset_index()\n",
    "                tempD[i].columns=[tempD[i].columns.levels[0][1]]+[i+'_'+c for c in list(tempD[i].columns.levels[1][:-1])]\n",
    "        DesignMatrix_Pre=tempD['Value']\n",
    "        for C in ContinuousCovSigns:\n",
    "            DesignMatrix_Pre=pd.merge(DesignMatrix_Pre,tempD[C],on=ID)\n",
    "        DesignMatrix_Pre1=DesignMatrix_Pre.set_index(ID).fillna(0)\n",
    "        self.DesignMatrix=DesignMatrix_Pre1.loc[PatientList_WithOrder,:]"
   ]
  },
  {
   "cell_type": "code",
   "execution_count": null,
   "metadata": {
    "collapsed": true
   },
   "outputs": [],
   "source": []
  },
  {
   "cell_type": "code",
   "execution_count": 2,
   "metadata": {
    "collapsed": true
   },
   "outputs": [],
   "source": [
    "# test\n",
    "import pandas as pd\n",
    "test=pd.read_excel('./test.xlsx')"
   ]
  },
  {
   "cell_type": "code",
   "execution_count": 3,
   "metadata": {
    "collapsed": true
   },
   "outputs": [],
   "source": [
    "test.columns=['studyID', u'age', u'group']"
   ]
  },
  {
   "cell_type": "code",
   "execution_count": 17,
   "metadata": {
    "collapsed": true
   },
   "outputs": [],
   "source": [
    "test.loc[:,'Gene']=[1,0,0,1]\n",
    "test.loc[:,'PP']=[1.5,0.5,3,10]"
   ]
  },
  {
   "cell_type": "code",
   "execution_count": 218,
   "metadata": {
    "collapsed": true
   },
   "outputs": [],
   "source": [
    "aa=FreesurferPre()\n",
    "\n",
    "aa.fit(ClassColList=['group','Gene'],Df=test,SubjectCol='studyID',VariableColList=['age','PP'])\n",
    "\n",
    "aa.Df2FSGD()"
   ]
  },
  {
   "cell_type": "code",
   "execution_count": 116,
   "metadata": {},
   "outputs": [
    {
     "name": "stdout",
     "output_type": "stream",
     "text": [
      "GroupDescriptorFile 1\n",
      "Title Haha\n",
      "Class group.1-Gene.0\n",
      "Class group.1-Gene.1\n",
      "Class group.3-Gene.0\n",
      "Class group.3-Gene.1\n",
      "Variables age PP\n",
      "Input re_COH001a group.1-Gene.1 69 1.5\n",
      "Input re_COH002a group.1-Gene.0 66 0.5\n",
      "Input re_COH010a group.3-Gene.0 62 3.0\n",
      "Input re_COH011a group.3-Gene.1 67 10.0\n",
      "\n"
     ]
    }
   ],
   "source": [
    "print aa.FSGD"
   ]
  },
  {
   "cell_type": "code",
   "execution_count": 201,
   "metadata": {
    "scrolled": true
   },
   "outputs": [],
   "source": [
    "aa.BuildContrastMatrix(SimpleVersion=True)\n"
   ]
  },
  {
   "cell_type": "code",
   "execution_count": 219,
   "metadata": {},
   "outputs": [],
   "source": [
    "b=aa.BuildDesignMatrix(PatientList_WithOrder=['re_COH001a','re_COH011a','re_COH010a','re_COH002a'])"
   ]
  },
  {
   "cell_type": "code",
   "execution_count": 221,
   "metadata": {},
   "outputs": [
    {
     "data": {
      "text/html": [
       "<div>\n",
       "<style>\n",
       "    .dataframe thead tr:only-child th {\n",
       "        text-align: right;\n",
       "    }\n",
       "\n",
       "    .dataframe thead th {\n",
       "        text-align: left;\n",
       "    }\n",
       "\n",
       "    .dataframe tbody tr th {\n",
       "        vertical-align: top;\n",
       "    }\n",
       "</style>\n",
       "<table border=\"1\" class=\"dataframe\">\n",
       "  <thead>\n",
       "    <tr style=\"text-align: right;\">\n",
       "      <th></th>\n",
       "      <th>group.1-Gene.0</th>\n",
       "      <th>group.1-Gene.1</th>\n",
       "      <th>group.3-Gene.0</th>\n",
       "      <th>group.3-Gene.1</th>\n",
       "      <th>age_group.1-Gene.0</th>\n",
       "      <th>age_group.1-Gene.1</th>\n",
       "      <th>age_group.3-Gene.0</th>\n",
       "      <th>age_group.3-Gene.1</th>\n",
       "      <th>PP_group.1-Gene.0</th>\n",
       "      <th>PP_group.1-Gene.1</th>\n",
       "      <th>PP_group.3-Gene.0</th>\n",
       "      <th>PP_group.3-Gene.1</th>\n",
       "    </tr>\n",
       "    <tr>\n",
       "      <th>studyID</th>\n",
       "      <th></th>\n",
       "      <th></th>\n",
       "      <th></th>\n",
       "      <th></th>\n",
       "      <th></th>\n",
       "      <th></th>\n",
       "      <th></th>\n",
       "      <th></th>\n",
       "      <th></th>\n",
       "      <th></th>\n",
       "      <th></th>\n",
       "      <th></th>\n",
       "    </tr>\n",
       "  </thead>\n",
       "  <tbody>\n",
       "    <tr>\n",
       "      <th>re_COH001a</th>\n",
       "      <td>0.0</td>\n",
       "      <td>1.0</td>\n",
       "      <td>0.0</td>\n",
       "      <td>0.0</td>\n",
       "      <td>0.0</td>\n",
       "      <td>1.176697</td>\n",
       "      <td>0.000000</td>\n",
       "      <td>0.000000</td>\n",
       "      <td>0.000000</td>\n",
       "      <td>-0.605406</td>\n",
       "      <td>0.000000</td>\n",
       "      <td>0.000000</td>\n",
       "    </tr>\n",
       "    <tr>\n",
       "      <th>re_COH011a</th>\n",
       "      <td>0.0</td>\n",
       "      <td>0.0</td>\n",
       "      <td>0.0</td>\n",
       "      <td>1.0</td>\n",
       "      <td>0.0</td>\n",
       "      <td>0.000000</td>\n",
       "      <td>0.000000</td>\n",
       "      <td>0.392232</td>\n",
       "      <td>0.000000</td>\n",
       "      <td>0.000000</td>\n",
       "      <td>0.000000</td>\n",
       "      <td>1.681682</td>\n",
       "    </tr>\n",
       "    <tr>\n",
       "      <th>re_COH010a</th>\n",
       "      <td>0.0</td>\n",
       "      <td>0.0</td>\n",
       "      <td>1.0</td>\n",
       "      <td>0.0</td>\n",
       "      <td>0.0</td>\n",
       "      <td>0.000000</td>\n",
       "      <td>-1.568929</td>\n",
       "      <td>0.000000</td>\n",
       "      <td>0.000000</td>\n",
       "      <td>0.000000</td>\n",
       "      <td>-0.201802</td>\n",
       "      <td>0.000000</td>\n",
       "    </tr>\n",
       "    <tr>\n",
       "      <th>re_COH002a</th>\n",
       "      <td>1.0</td>\n",
       "      <td>0.0</td>\n",
       "      <td>0.0</td>\n",
       "      <td>0.0</td>\n",
       "      <td>0.0</td>\n",
       "      <td>0.000000</td>\n",
       "      <td>0.000000</td>\n",
       "      <td>0.000000</td>\n",
       "      <td>-0.874475</td>\n",
       "      <td>0.000000</td>\n",
       "      <td>0.000000</td>\n",
       "      <td>0.000000</td>\n",
       "    </tr>\n",
       "  </tbody>\n",
       "</table>\n",
       "</div>"
      ],
      "text/plain": [
       "            group.1-Gene.0  group.1-Gene.1  group.3-Gene.0  group.3-Gene.1  \\\n",
       "studyID                                                                      \n",
       "re_COH001a             0.0             1.0             0.0             0.0   \n",
       "re_COH011a             0.0             0.0             0.0             1.0   \n",
       "re_COH010a             0.0             0.0             1.0             0.0   \n",
       "re_COH002a             1.0             0.0             0.0             0.0   \n",
       "\n",
       "            age_group.1-Gene.0  age_group.1-Gene.1  age_group.3-Gene.0  \\\n",
       "studyID                                                                  \n",
       "re_COH001a                 0.0            1.176697            0.000000   \n",
       "re_COH011a                 0.0            0.000000            0.000000   \n",
       "re_COH010a                 0.0            0.000000           -1.568929   \n",
       "re_COH002a                 0.0            0.000000            0.000000   \n",
       "\n",
       "            age_group.3-Gene.1  PP_group.1-Gene.0  PP_group.1-Gene.1  \\\n",
       "studyID                                                                \n",
       "re_COH001a            0.000000           0.000000          -0.605406   \n",
       "re_COH011a            0.392232           0.000000           0.000000   \n",
       "re_COH010a            0.000000           0.000000           0.000000   \n",
       "re_COH002a            0.000000          -0.874475           0.000000   \n",
       "\n",
       "            PP_group.3-Gene.0  PP_group.3-Gene.1  \n",
       "studyID                                           \n",
       "re_COH001a           0.000000           0.000000  \n",
       "re_COH011a           0.000000           1.681682  \n",
       "re_COH010a          -0.201802           0.000000  \n",
       "re_COH002a           0.000000           0.000000  "
      ]
     },
     "execution_count": 221,
     "metadata": {},
     "output_type": "execute_result"
    }
   ],
   "source": [
    "aa.DesignMatrix"
   ]
  },
  {
   "cell_type": "code",
   "execution_count": 209,
   "metadata": {},
   "outputs": [
    {
     "data": {
      "text/plain": [
       "'studyID'"
      ]
     },
     "execution_count": 209,
     "metadata": {},
     "output_type": "execute_result"
    }
   ],
   "source": [
    "aa.SubCol"
   ]
  },
  {
   "cell_type": "code",
   "execution_count": 148,
   "metadata": {},
   "outputs": [
    {
     "data": {
      "text/plain": [
       "Index([u'group.1-Gene.0', u'group.1-Gene.1', u'group.3-Gene.0',\n",
       "       u'group.3-Gene.1', u'age_group.1-Gene.0', u'age_group.1-Gene.1',\n",
       "       u'age_group.3-Gene.0', u'age_group.3-Gene.1', u'PP_group.1-Gene.0',\n",
       "       u'PP_group.1-Gene.1', u'PP_group.3-Gene.0', u'PP_group.3-Gene.1'],\n",
       "      dtype='object')"
      ]
     },
     "execution_count": 148,
     "metadata": {},
     "output_type": "execute_result"
    }
   ],
   "source": [
    "aa.ContrastMatrix.columns"
   ]
  },
  {
   "cell_type": "code",
   "execution_count": 142,
   "metadata": {},
   "outputs": [],
   "source": [
    "temp={s:i for i,s in enumerate(list(aa.ContrastMatrix.columns))}\n",
    "Ordered=[temp[i] for i in aa.RegressorList]\n",
    "\n",
    "aa.ContrastMatrix.iloc[:,Ordered]"
   ]
  },
  {
   "cell_type": "code",
   "execution_count": 37,
   "metadata": {
    "collapsed": true
   },
   "outputs": [],
   "source": [
    "ColumnList=aa.RegressorList\n",
    "Groups=aa.ClassList\n",
    "Regressors='DODS'\n",
    "# Groups(subgroups) contain FemaleGroup1, femaleGroup2, maleGroup1, maleGroup2\n",
    "\n",
    "ContinuousCovs=aa.ContinuousCovs\n",
    "ContinuousCovSigns=aa.VariableList\n",
    "\n",
    "\n",
    "GroupSigns=aa.ClassCol\n",
    "\n",
    "\n",
    "# merge subgroup: gender vs Female, male \n",
    "# groupsign=gender\n",
    "# GroupLevels=Female, male\n",
    "\n",
    "# age \n",
    "Result={}"
   ]
  },
  {
   "cell_type": "code",
   "execution_count": 94,
   "metadata": {},
   "outputs": [
    {
     "name": "stdout",
     "output_type": "stream",
     "text": [
      "['group.1-Gene.0', 'group.1-Gene.1', 'group.3-Gene.0', 'group.3-Gene.1']\n",
      "['group.1-Gene.0', 'group.1-Gene.1', 'group.3-Gene.0', 'group.3-Gene.1']\n"
     ]
    }
   ],
   "source": [
    "# group effect\n",
    "Result={}\n",
    "for Id,i,iS in [('Group',Groups,GroupSigns)]:#,('Cove',ContinuousCovs,ContinuousCovSigns)]:\n",
    "    if i==None or iS==None:\n",
    "        pass\n",
    "    else:\n",
    "        for s in iS:\n",
    "            Grouped=filter(lambda x: s in x, i)\n",
    "            print Grouped\n",
    "        # group effect\n",
    "            Result[s+'_Effect']=dict(zip(ColumnList,\n",
    "                                         [int(any([G==c for G in Grouped]))/float(len(Grouped)) for c in ColumnList ]))\n",
    "\n",
    "        if Id=='Group':\n",
    "            # interact within group\n",
    "            for Sign in iS:\n",
    "                def findlevel(sign,classname):\n",
    "                    import re\n",
    "                    try:\n",
    "                        result=re.search(sign+'\\.(\\w+)',classname).group(1)\n",
    "                        return '.'.join([sign,result])\n",
    "                    except:\n",
    "                        pass\n",
    "                GroupLevels=set([findlevel(sign=Sign,classname=g) for g in i if Sign in g])\n",
    "                for X,Y in combinations(GroupLevels,2):\n",
    "                    list1=[int(X in c) for c in i]\n",
    "                    list2=[-int(Y in c) for c in i]\n",
    "                    listUse1=map(lambda x:sum(x)/float(sum(list1)),zip(list1,list2))+[0]*len(ContinuousCovs)\n",
    "                    Result['-'.join([X,Y])]=dict(zip(ColumnList,listUse1))\n",
    "                    # covariant effect within interacted group\n",
    "                    if Regressors=='DODS':\n",
    "                        for CoS in ContinuousCovSigns:\n",
    "                            list3=[int(all([(X in c),(CoS in c)])) for c in ContinuousCovs]\n",
    "                            list4=[-int(all([(Y in c),(CoS in c)])) for c in ContinuousCovs]\n",
    "                            listUse2=[0]*len(i)+map(lambda x:sum(x)/float(sum(list3)),zip(list3,list4))\n",
    "                        Result['-'.join([X,Y])+'_'+CoS+'.SlopeChanging']=dict(zip(ColumnList,listUse2))\n",
    "                    elif Regressors=='DOSS':\n",
    "                        pass\n",
    "            # subgroup effect\n",
    "        for g in i:\n",
    "            Result[g+'_Effect']=dict(zip(ColumnList,[int(c==g) for c in ColumnList]))"
   ]
  },
  {
   "cell_type": "code",
   "execution_count": 61,
   "metadata": {},
   "outputs": [
    {
     "data": {
      "text/plain": [
       "['group.1-Gene.0', 'group.1-Gene.1', 'group.3-Gene.0', 'group.3-Gene.1']"
      ]
     },
     "execution_count": 61,
     "metadata": {},
     "output_type": "execute_result"
    }
   ],
   "source": [
    "i"
   ]
  },
  {
   "cell_type": "code",
   "execution_count": 64,
   "metadata": {},
   "outputs": [
    {
     "data": {
      "text/plain": [
       "{None}"
      ]
     },
     "execution_count": 64,
     "metadata": {},
     "output_type": "execute_result"
    }
   ],
   "source": [
    "GroupLevels"
   ]
  },
  {
   "cell_type": "code",
   "execution_count": 66,
   "metadata": {},
   "outputs": [
    {
     "name": "stdout",
     "output_type": "stream",
     "text": [
      "group.1-Gene.0\n",
      "group.1-Gene.1\n",
      "group.3-Gene.0\n",
      "group.3-Gene.1\n"
     ]
    }
   ],
   "source": [
    "for g in i:\n",
    "    print g"
   ]
  },
  {
   "cell_type": "code",
   "execution_count": 67,
   "metadata": {},
   "outputs": [
    {
     "data": {
      "text/plain": [
       "'Gene'"
      ]
     },
     "execution_count": 67,
     "metadata": {},
     "output_type": "execute_result"
    }
   ],
   "source": [
    "Sign"
   ]
  },
  {
   "cell_type": "code",
   "execution_count": 68,
   "metadata": {},
   "outputs": [
    {
     "data": {
      "text/plain": [
       "'1'"
      ]
     },
     "execution_count": 68,
     "metadata": {},
     "output_type": "execute_result"
    }
   ],
   "source": [
    "findlevel(sign=Sign,classname=g)"
   ]
  },
  {
   "cell_type": "code",
   "execution_count": 65,
   "metadata": {
    "scrolled": true
   },
   "outputs": [
    {
     "data": {
      "text/plain": [
       "[None, None, None, None]"
      ]
     },
     "execution_count": 65,
     "metadata": {},
     "output_type": "execute_result"
    }
   ],
   "source": [
    "[findlevel(sign=Sign,classname=i) for g in i if Sign in g]"
   ]
  },
  {
   "cell_type": "code",
   "execution_count": 83,
   "metadata": {},
   "outputs": [
    {
     "data": {
      "text/plain": [
       "[0.25, 0.25, 0.25, 0.25, 0.0, 0.0, 0.0, 0.0, 0.0, 0.0, 0.0, 0.0]"
      ]
     },
     "execution_count": 83,
     "metadata": {},
     "output_type": "execute_result"
    }
   ],
   "source": [
    "[int(any([G==c for G in Grouped]))/float(len(Grouped)) for c in ColumnList ]"
   ]
  },
  {
   "cell_type": "code",
   "execution_count": 81,
   "metadata": {},
   "outputs": [
    {
     "data": {
      "text/plain": [
       "'Gene'"
      ]
     },
     "execution_count": 81,
     "metadata": {},
     "output_type": "execute_result"
    }
   ],
   "source": [
    "s"
   ]
  },
  {
   "cell_type": "code",
   "execution_count": 82,
   "metadata": {},
   "outputs": [
    {
     "data": {
      "text/plain": [
       "['group.1-Gene.0', 'group.1-Gene.1', 'group.3-Gene.0', 'group.3-Gene.1']"
      ]
     },
     "execution_count": 82,
     "metadata": {},
     "output_type": "execute_result"
    }
   ],
   "source": [
    "i"
   ]
  },
  {
   "cell_type": "code",
   "execution_count": 91,
   "metadata": {},
   "outputs": [
    {
     "data": {
      "text/plain": [
       "['group.1-Gene.0', 'group.1-Gene.1', 'group.3-Gene.0', 'group.3-Gene.1']"
      ]
     },
     "execution_count": 91,
     "metadata": {},
     "output_type": "execute_result"
    }
   ],
   "source": [
    "i"
   ]
  },
  {
   "cell_type": "code",
   "execution_count": null,
   "metadata": {
    "collapsed": true
   },
   "outputs": [],
   "source": []
  },
  {
   "cell_type": "code",
   "execution_count": 90,
   "metadata": {},
   "outputs": [
    {
     "data": {
      "text/plain": [
       "[1, 1, 0, 1]"
      ]
     },
     "execution_count": 90,
     "metadata": {},
     "output_type": "execute_result"
    }
   ],
   "source": [
    "[int(X in c) for c in i]"
   ]
  },
  {
   "cell_type": "code",
   "execution_count": 95,
   "metadata": {},
   "outputs": [
    {
     "data": {
      "text/html": [
       "<div>\n",
       "<style>\n",
       "    .dataframe thead tr:only-child th {\n",
       "        text-align: right;\n",
       "    }\n",
       "\n",
       "    .dataframe thead th {\n",
       "        text-align: left;\n",
       "    }\n",
       "\n",
       "    .dataframe tbody tr th {\n",
       "        vertical-align: top;\n",
       "    }\n",
       "</style>\n",
       "<table border=\"1\" class=\"dataframe\">\n",
       "  <thead>\n",
       "    <tr style=\"text-align: right;\">\n",
       "      <th></th>\n",
       "      <th>Gene.1-Gene.0</th>\n",
       "      <th>Gene.1-Gene.0_PP.SlopeChanging</th>\n",
       "      <th>Gene_Effect</th>\n",
       "      <th>group.1-Gene.0_Effect</th>\n",
       "      <th>group.1-Gene.1_Effect</th>\n",
       "      <th>group.1-group.3</th>\n",
       "      <th>group.1-group.3_PP.SlopeChanging</th>\n",
       "      <th>group.3-Gene.0_Effect</th>\n",
       "      <th>group.3-Gene.1_Effect</th>\n",
       "      <th>group_Effect</th>\n",
       "    </tr>\n",
       "  </thead>\n",
       "  <tbody>\n",
       "    <tr>\n",
       "      <th>group.1-Gene.0</th>\n",
       "      <td>-0.5</td>\n",
       "      <td>0.0</td>\n",
       "      <td>0.25</td>\n",
       "      <td>1</td>\n",
       "      <td>0</td>\n",
       "      <td>0.5</td>\n",
       "      <td>0.0</td>\n",
       "      <td>0</td>\n",
       "      <td>0</td>\n",
       "      <td>0.25</td>\n",
       "    </tr>\n",
       "    <tr>\n",
       "      <th>group.1-Gene.0_PP</th>\n",
       "      <td>0.0</td>\n",
       "      <td>-0.5</td>\n",
       "      <td>0.00</td>\n",
       "      <td>0</td>\n",
       "      <td>0</td>\n",
       "      <td>0.0</td>\n",
       "      <td>0.5</td>\n",
       "      <td>0</td>\n",
       "      <td>0</td>\n",
       "      <td>0.00</td>\n",
       "    </tr>\n",
       "    <tr>\n",
       "      <th>group.1-Gene.0_age</th>\n",
       "      <td>0.0</td>\n",
       "      <td>0.0</td>\n",
       "      <td>0.00</td>\n",
       "      <td>0</td>\n",
       "      <td>0</td>\n",
       "      <td>0.0</td>\n",
       "      <td>0.0</td>\n",
       "      <td>0</td>\n",
       "      <td>0</td>\n",
       "      <td>0.00</td>\n",
       "    </tr>\n",
       "    <tr>\n",
       "      <th>group.1-Gene.1</th>\n",
       "      <td>0.5</td>\n",
       "      <td>0.0</td>\n",
       "      <td>0.25</td>\n",
       "      <td>0</td>\n",
       "      <td>1</td>\n",
       "      <td>0.5</td>\n",
       "      <td>0.0</td>\n",
       "      <td>0</td>\n",
       "      <td>0</td>\n",
       "      <td>0.25</td>\n",
       "    </tr>\n",
       "    <tr>\n",
       "      <th>group.1-Gene.1_PP</th>\n",
       "      <td>0.0</td>\n",
       "      <td>0.5</td>\n",
       "      <td>0.00</td>\n",
       "      <td>0</td>\n",
       "      <td>0</td>\n",
       "      <td>0.0</td>\n",
       "      <td>0.5</td>\n",
       "      <td>0</td>\n",
       "      <td>0</td>\n",
       "      <td>0.00</td>\n",
       "    </tr>\n",
       "    <tr>\n",
       "      <th>group.1-Gene.1_age</th>\n",
       "      <td>0.0</td>\n",
       "      <td>0.0</td>\n",
       "      <td>0.00</td>\n",
       "      <td>0</td>\n",
       "      <td>0</td>\n",
       "      <td>0.0</td>\n",
       "      <td>0.0</td>\n",
       "      <td>0</td>\n",
       "      <td>0</td>\n",
       "      <td>0.00</td>\n",
       "    </tr>\n",
       "    <tr>\n",
       "      <th>group.3-Gene.0</th>\n",
       "      <td>-0.5</td>\n",
       "      <td>0.0</td>\n",
       "      <td>0.25</td>\n",
       "      <td>0</td>\n",
       "      <td>0</td>\n",
       "      <td>-0.5</td>\n",
       "      <td>0.0</td>\n",
       "      <td>1</td>\n",
       "      <td>0</td>\n",
       "      <td>0.25</td>\n",
       "    </tr>\n",
       "    <tr>\n",
       "      <th>group.3-Gene.0_PP</th>\n",
       "      <td>0.0</td>\n",
       "      <td>-0.5</td>\n",
       "      <td>0.00</td>\n",
       "      <td>0</td>\n",
       "      <td>0</td>\n",
       "      <td>0.0</td>\n",
       "      <td>-0.5</td>\n",
       "      <td>0</td>\n",
       "      <td>0</td>\n",
       "      <td>0.00</td>\n",
       "    </tr>\n",
       "    <tr>\n",
       "      <th>group.3-Gene.0_age</th>\n",
       "      <td>0.0</td>\n",
       "      <td>0.0</td>\n",
       "      <td>0.00</td>\n",
       "      <td>0</td>\n",
       "      <td>0</td>\n",
       "      <td>0.0</td>\n",
       "      <td>0.0</td>\n",
       "      <td>0</td>\n",
       "      <td>0</td>\n",
       "      <td>0.00</td>\n",
       "    </tr>\n",
       "    <tr>\n",
       "      <th>group.3-Gene.1</th>\n",
       "      <td>0.5</td>\n",
       "      <td>0.0</td>\n",
       "      <td>0.25</td>\n",
       "      <td>0</td>\n",
       "      <td>0</td>\n",
       "      <td>-0.5</td>\n",
       "      <td>0.0</td>\n",
       "      <td>0</td>\n",
       "      <td>1</td>\n",
       "      <td>0.25</td>\n",
       "    </tr>\n",
       "    <tr>\n",
       "      <th>group.3-Gene.1_PP</th>\n",
       "      <td>0.0</td>\n",
       "      <td>0.5</td>\n",
       "      <td>0.00</td>\n",
       "      <td>0</td>\n",
       "      <td>0</td>\n",
       "      <td>0.0</td>\n",
       "      <td>-0.5</td>\n",
       "      <td>0</td>\n",
       "      <td>0</td>\n",
       "      <td>0.00</td>\n",
       "    </tr>\n",
       "    <tr>\n",
       "      <th>group.3-Gene.1_age</th>\n",
       "      <td>0.0</td>\n",
       "      <td>0.0</td>\n",
       "      <td>0.00</td>\n",
       "      <td>0</td>\n",
       "      <td>0</td>\n",
       "      <td>0.0</td>\n",
       "      <td>0.0</td>\n",
       "      <td>0</td>\n",
       "      <td>0</td>\n",
       "      <td>0.00</td>\n",
       "    </tr>\n",
       "  </tbody>\n",
       "</table>\n",
       "</div>"
      ],
      "text/plain": [
       "                    Gene.1-Gene.0  Gene.1-Gene.0_PP.SlopeChanging  \\\n",
       "group.1-Gene.0               -0.5                             0.0   \n",
       "group.1-Gene.0_PP             0.0                            -0.5   \n",
       "group.1-Gene.0_age            0.0                             0.0   \n",
       "group.1-Gene.1                0.5                             0.0   \n",
       "group.1-Gene.1_PP             0.0                             0.5   \n",
       "group.1-Gene.1_age            0.0                             0.0   \n",
       "group.3-Gene.0               -0.5                             0.0   \n",
       "group.3-Gene.0_PP             0.0                            -0.5   \n",
       "group.3-Gene.0_age            0.0                             0.0   \n",
       "group.3-Gene.1                0.5                             0.0   \n",
       "group.3-Gene.1_PP             0.0                             0.5   \n",
       "group.3-Gene.1_age            0.0                             0.0   \n",
       "\n",
       "                    Gene_Effect  group.1-Gene.0_Effect  group.1-Gene.1_Effect  \\\n",
       "group.1-Gene.0             0.25                      1                      0   \n",
       "group.1-Gene.0_PP          0.00                      0                      0   \n",
       "group.1-Gene.0_age         0.00                      0                      0   \n",
       "group.1-Gene.1             0.25                      0                      1   \n",
       "group.1-Gene.1_PP          0.00                      0                      0   \n",
       "group.1-Gene.1_age         0.00                      0                      0   \n",
       "group.3-Gene.0             0.25                      0                      0   \n",
       "group.3-Gene.0_PP          0.00                      0                      0   \n",
       "group.3-Gene.0_age         0.00                      0                      0   \n",
       "group.3-Gene.1             0.25                      0                      0   \n",
       "group.3-Gene.1_PP          0.00                      0                      0   \n",
       "group.3-Gene.1_age         0.00                      0                      0   \n",
       "\n",
       "                    group.1-group.3  group.1-group.3_PP.SlopeChanging  \\\n",
       "group.1-Gene.0                  0.5                               0.0   \n",
       "group.1-Gene.0_PP               0.0                               0.5   \n",
       "group.1-Gene.0_age              0.0                               0.0   \n",
       "group.1-Gene.1                  0.5                               0.0   \n",
       "group.1-Gene.1_PP               0.0                               0.5   \n",
       "group.1-Gene.1_age              0.0                               0.0   \n",
       "group.3-Gene.0                 -0.5                               0.0   \n",
       "group.3-Gene.0_PP               0.0                              -0.5   \n",
       "group.3-Gene.0_age              0.0                               0.0   \n",
       "group.3-Gene.1                 -0.5                               0.0   \n",
       "group.3-Gene.1_PP               0.0                              -0.5   \n",
       "group.3-Gene.1_age              0.0                               0.0   \n",
       "\n",
       "                    group.3-Gene.0_Effect  group.3-Gene.1_Effect  group_Effect  \n",
       "group.1-Gene.0                          0                      0          0.25  \n",
       "group.1-Gene.0_PP                       0                      0          0.00  \n",
       "group.1-Gene.0_age                      0                      0          0.00  \n",
       "group.1-Gene.1                          0                      0          0.25  \n",
       "group.1-Gene.1_PP                       0                      0          0.00  \n",
       "group.1-Gene.1_age                      0                      0          0.00  \n",
       "group.3-Gene.0                          1                      0          0.25  \n",
       "group.3-Gene.0_PP                       0                      0          0.00  \n",
       "group.3-Gene.0_age                      0                      0          0.00  \n",
       "group.3-Gene.1                          0                      1          0.25  \n",
       "group.3-Gene.1_PP                       0                      0          0.00  \n",
       "group.3-Gene.1_age                      0                      0          0.00  "
      ]
     },
     "execution_count": 95,
     "metadata": {},
     "output_type": "execute_result"
    }
   ],
   "source": [
    "pd.DataFrame(Result)"
   ]
  },
  {
   "cell_type": "code",
   "execution_count": null,
   "metadata": {
    "collapsed": true
   },
   "outputs": [],
   "source": []
  }
 ],
 "metadata": {
  "kernelspec": {
   "display_name": "Python 2",
   "language": "python",
   "name": "python2"
  },
  "language_info": {
   "codemirror_mode": {
    "name": "ipython",
    "version": 2
   },
   "file_extension": ".py",
   "mimetype": "text/x-python",
   "name": "python",
   "nbconvert_exporter": "python",
   "pygments_lexer": "ipython2",
   "version": "2.7.14"
  }
 },
 "nbformat": 4,
 "nbformat_minor": 2
}
